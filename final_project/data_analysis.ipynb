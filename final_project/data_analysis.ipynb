{
 "cells": [
  {
   "cell_type": "code",
   "execution_count": null,
   "metadata": {},
   "outputs": [],
   "source": []
  },
  {
   "cell_type": "code",
   "execution_count": 1,
   "metadata": {},
   "outputs": [],
   "source": [
    "from scipy.stats import sem\n",
    "from scipy.stats import t\n",
    "import numpy as np\n",
    "from math import sqrt\n",
    "import pandas as pd\n",
    "import matplotlib.pyplot as plt"
   ]
  },
  {
   "cell_type": "code",
   "execution_count": 2,
   "metadata": {},
   "outputs": [],
   "source": [
    "attendance_data_with_rain_data = pd.read_csv(\"processed_data/seasons_2012-2018_attendance_data.csv\")"
   ]
  },
  {
   "cell_type": "code",
   "execution_count": 3,
   "metadata": {},
   "outputs": [
    {
     "data": {
      "text/html": [
       "<div>\n",
       "<style scoped>\n",
       "    .dataframe tbody tr th:only-of-type {\n",
       "        vertical-align: middle;\n",
       "    }\n",
       "\n",
       "    .dataframe tbody tr th {\n",
       "        vertical-align: top;\n",
       "    }\n",
       "\n",
       "    .dataframe thead th {\n",
       "        text-align: right;\n",
       "    }\n",
       "</style>\n",
       "<table border=\"1\" class=\"dataframe\">\n",
       "  <thead>\n",
       "    <tr style=\"text-align: right;\">\n",
       "      <th></th>\n",
       "      <th>Unnamed: 0</th>\n",
       "      <th>attendance</th>\n",
       "      <th>away_conference</th>\n",
       "      <th>away_line_scores</th>\n",
       "      <th>away_points</th>\n",
       "      <th>away_team</th>\n",
       "      <th>conference_game</th>\n",
       "      <th>home_conference</th>\n",
       "      <th>home_line_scores</th>\n",
       "      <th>home_points</th>\n",
       "      <th>...</th>\n",
       "      <th>name</th>\n",
       "      <th>state</th>\n",
       "      <th>year_constructed</th>\n",
       "      <th>zip</th>\n",
       "      <th>attendance_percentage</th>\n",
       "      <th>home_team_ranked_ind</th>\n",
       "      <th>away_team_ranked_ind</th>\n",
       "      <th>rain</th>\n",
       "      <th>max_temp</th>\n",
       "      <th>min_temp</th>\n",
       "    </tr>\n",
       "  </thead>\n",
       "  <tbody>\n",
       "    <tr>\n",
       "      <th>0</th>\n",
       "      <td>0</td>\n",
       "      <td>38393.0</td>\n",
       "      <td>SEC</td>\n",
       "      <td>[7, 3, 0, 7]</td>\n",
       "      <td>17</td>\n",
       "      <td>South Carolina</td>\n",
       "      <td>True</td>\n",
       "      <td>SEC</td>\n",
       "      <td>[0, 10, 3, 0]</td>\n",
       "      <td>13</td>\n",
       "      <td>...</td>\n",
       "      <td>Vanderbilt Stadium</td>\n",
       "      <td>TN</td>\n",
       "      <td>1922.0</td>\n",
       "      <td>37212.0</td>\n",
       "      <td>0.951499</td>\n",
       "      <td>0</td>\n",
       "      <td>1</td>\n",
       "      <td>0.0</td>\n",
       "      <td>NaN</td>\n",
       "      <td>NaN</td>\n",
       "    </tr>\n",
       "    <tr>\n",
       "      <th>1</th>\n",
       "      <td>1</td>\n",
       "      <td>35491.0</td>\n",
       "      <td>NaN</td>\n",
       "      <td>[0, 0, 0, 0]</td>\n",
       "      <td>0</td>\n",
       "      <td>Presbyterian College</td>\n",
       "      <td>False</td>\n",
       "      <td>SEC</td>\n",
       "      <td>[10, 17, 28, 3]</td>\n",
       "      <td>58</td>\n",
       "      <td>...</td>\n",
       "      <td>Vanderbilt Stadium</td>\n",
       "      <td>TN</td>\n",
       "      <td>1922.0</td>\n",
       "      <td>37212.0</td>\n",
       "      <td>0.879579</td>\n",
       "      <td>0</td>\n",
       "      <td>0</td>\n",
       "      <td>0.0</td>\n",
       "      <td>NaN</td>\n",
       "      <td>NaN</td>\n",
       "    </tr>\n",
       "    <tr>\n",
       "      <th>2</th>\n",
       "      <td>2</td>\n",
       "      <td>40350.0</td>\n",
       "      <td>SEC</td>\n",
       "      <td>[0, 11, 7, 13]</td>\n",
       "      <td>31</td>\n",
       "      <td>Florida</td>\n",
       "      <td>True</td>\n",
       "      <td>SEC</td>\n",
       "      <td>[7, 0, 0, 10]</td>\n",
       "      <td>17</td>\n",
       "      <td>...</td>\n",
       "      <td>Vanderbilt Stadium</td>\n",
       "      <td>TN</td>\n",
       "      <td>1922.0</td>\n",
       "      <td>37212.0</td>\n",
       "      <td>1.000000</td>\n",
       "      <td>0</td>\n",
       "      <td>1</td>\n",
       "      <td>5.0</td>\n",
       "      <td>NaN</td>\n",
       "      <td>NaN</td>\n",
       "    </tr>\n",
       "    <tr>\n",
       "      <th>3</th>\n",
       "      <td>3</td>\n",
       "      <td>40350.0</td>\n",
       "      <td>SEC</td>\n",
       "      <td>[0, 10, 0, 3]</td>\n",
       "      <td>13</td>\n",
       "      <td>Auburn</td>\n",
       "      <td>True</td>\n",
       "      <td>SEC</td>\n",
       "      <td>[7, 3, 7, 0]</td>\n",
       "      <td>17</td>\n",
       "      <td>...</td>\n",
       "      <td>Vanderbilt Stadium</td>\n",
       "      <td>TN</td>\n",
       "      <td>1922.0</td>\n",
       "      <td>37212.0</td>\n",
       "      <td>1.000000</td>\n",
       "      <td>0</td>\n",
       "      <td>0</td>\n",
       "      <td>0.0</td>\n",
       "      <td>NaN</td>\n",
       "      <td>NaN</td>\n",
       "    </tr>\n",
       "    <tr>\n",
       "      <th>4</th>\n",
       "      <td>4</td>\n",
       "      <td>32227.0</td>\n",
       "      <td>Mid-American</td>\n",
       "      <td>[0, 0, 0, 7]</td>\n",
       "      <td>7</td>\n",
       "      <td>UMass</td>\n",
       "      <td>False</td>\n",
       "      <td>SEC</td>\n",
       "      <td>[7, 14, 28, 0]</td>\n",
       "      <td>49</td>\n",
       "      <td>...</td>\n",
       "      <td>Vanderbilt Stadium</td>\n",
       "      <td>TN</td>\n",
       "      <td>1922.0</td>\n",
       "      <td>37212.0</td>\n",
       "      <td>0.798686</td>\n",
       "      <td>0</td>\n",
       "      <td>0</td>\n",
       "      <td>38.0</td>\n",
       "      <td>NaN</td>\n",
       "      <td>NaN</td>\n",
       "    </tr>\n",
       "    <tr>\n",
       "      <th>...</th>\n",
       "      <td>...</td>\n",
       "      <td>...</td>\n",
       "      <td>...</td>\n",
       "      <td>...</td>\n",
       "      <td>...</td>\n",
       "      <td>...</td>\n",
       "      <td>...</td>\n",
       "      <td>...</td>\n",
       "      <td>...</td>\n",
       "      <td>...</td>\n",
       "      <td>...</td>\n",
       "      <td>...</td>\n",
       "      <td>...</td>\n",
       "      <td>...</td>\n",
       "      <td>...</td>\n",
       "      <td>...</td>\n",
       "      <td>...</td>\n",
       "      <td>...</td>\n",
       "      <td>...</td>\n",
       "      <td>...</td>\n",
       "      <td>...</td>\n",
       "    </tr>\n",
       "    <tr>\n",
       "      <th>4822</th>\n",
       "      <td>4822</td>\n",
       "      <td>13154.0</td>\n",
       "      <td>Sun Belt</td>\n",
       "      <td>[0, 10, 14, 7]</td>\n",
       "      <td>31</td>\n",
       "      <td>Appalachian State</td>\n",
       "      <td>True</td>\n",
       "      <td>Sun Belt</td>\n",
       "      <td>[0, 7, 0, 3]</td>\n",
       "      <td>10</td>\n",
       "      <td>...</td>\n",
       "      <td>Georgia State Stadium</td>\n",
       "      <td>GA</td>\n",
       "      <td>2017.0</td>\n",
       "      <td>30315.0</td>\n",
       "      <td>0.540583</td>\n",
       "      <td>0</td>\n",
       "      <td>0</td>\n",
       "      <td>NaN</td>\n",
       "      <td>NaN</td>\n",
       "      <td>NaN</td>\n",
       "    </tr>\n",
       "    <tr>\n",
       "      <th>4823</th>\n",
       "      <td>4823</td>\n",
       "      <td>14163.0</td>\n",
       "      <td>Sun Belt</td>\n",
       "      <td>[7, 7, 3, 7]</td>\n",
       "      <td>24</td>\n",
       "      <td>Idaho</td>\n",
       "      <td>True</td>\n",
       "      <td>Sun Belt</td>\n",
       "      <td>[7, 3, 0, 0]</td>\n",
       "      <td>10</td>\n",
       "      <td>...</td>\n",
       "      <td>Georgia State Stadium</td>\n",
       "      <td>GA</td>\n",
       "      <td>2017.0</td>\n",
       "      <td>30315.0</td>\n",
       "      <td>0.582049</td>\n",
       "      <td>0</td>\n",
       "      <td>0</td>\n",
       "      <td>NaN</td>\n",
       "      <td>NaN</td>\n",
       "      <td>NaN</td>\n",
       "    </tr>\n",
       "    <tr>\n",
       "      <th>4830</th>\n",
       "      <td>4830</td>\n",
       "      <td>76330.0</td>\n",
       "      <td>ACC</td>\n",
       "      <td>[0, 7, 0, 0]</td>\n",
       "      <td>7</td>\n",
       "      <td>Florida State</td>\n",
       "      <td>False</td>\n",
       "      <td>SEC</td>\n",
       "      <td>[3, 7, 11, 3]</td>\n",
       "      <td>24</td>\n",
       "      <td>...</td>\n",
       "      <td>Mercedes-Benz Stadium</td>\n",
       "      <td>GA</td>\n",
       "      <td>2017.0</td>\n",
       "      <td>30313.0</td>\n",
       "      <td>1.075070</td>\n",
       "      <td>1</td>\n",
       "      <td>1</td>\n",
       "      <td>NaN</td>\n",
       "      <td>NaN</td>\n",
       "      <td>NaN</td>\n",
       "    </tr>\n",
       "    <tr>\n",
       "      <th>4831</th>\n",
       "      <td>4831</td>\n",
       "      <td>75107.0</td>\n",
       "      <td>SEC</td>\n",
       "      <td>[0, 7, 7, 14, 7, 7]</td>\n",
       "      <td>42</td>\n",
       "      <td>Tennessee</td>\n",
       "      <td>False</td>\n",
       "      <td>ACC</td>\n",
       "      <td>[7, 7, 7, 7, 7, 6]</td>\n",
       "      <td>41</td>\n",
       "      <td>...</td>\n",
       "      <td>Mercedes-Benz Stadium</td>\n",
       "      <td>GA</td>\n",
       "      <td>2017.0</td>\n",
       "      <td>30313.0</td>\n",
       "      <td>1.057845</td>\n",
       "      <td>0</td>\n",
       "      <td>1</td>\n",
       "      <td>NaN</td>\n",
       "      <td>NaN</td>\n",
       "      <td>NaN</td>\n",
       "    </tr>\n",
       "    <tr>\n",
       "      <th>4832</th>\n",
       "      <td>4832</td>\n",
       "      <td>76534.0</td>\n",
       "      <td>SEC</td>\n",
       "      <td>[0, 10, 3, 15]</td>\n",
       "      <td>28</td>\n",
       "      <td>Georgia</td>\n",
       "      <td>True</td>\n",
       "      <td>SEC</td>\n",
       "      <td>[7, 0, 0, 0]</td>\n",
       "      <td>7</td>\n",
       "      <td>...</td>\n",
       "      <td>Mercedes-Benz Stadium</td>\n",
       "      <td>GA</td>\n",
       "      <td>2017.0</td>\n",
       "      <td>30313.0</td>\n",
       "      <td>1.077944</td>\n",
       "      <td>1</td>\n",
       "      <td>1</td>\n",
       "      <td>NaN</td>\n",
       "      <td>NaN</td>\n",
       "      <td>NaN</td>\n",
       "    </tr>\n",
       "  </tbody>\n",
       "</table>\n",
       "<p>4818 rows × 36 columns</p>\n",
       "</div>"
      ],
      "text/plain": [
       "      Unnamed: 0  attendance away_conference     away_line_scores  \\\n",
       "0              0     38393.0             SEC         [7, 3, 0, 7]   \n",
       "1              1     35491.0             NaN         [0, 0, 0, 0]   \n",
       "2              2     40350.0             SEC       [0, 11, 7, 13]   \n",
       "3              3     40350.0             SEC        [0, 10, 0, 3]   \n",
       "4              4     32227.0    Mid-American         [0, 0, 0, 7]   \n",
       "...          ...         ...             ...                  ...   \n",
       "4822        4822     13154.0        Sun Belt       [0, 10, 14, 7]   \n",
       "4823        4823     14163.0        Sun Belt         [7, 7, 3, 7]   \n",
       "4830        4830     76330.0             ACC         [0, 7, 0, 0]   \n",
       "4831        4831     75107.0             SEC  [0, 7, 7, 14, 7, 7]   \n",
       "4832        4832     76534.0             SEC       [0, 10, 3, 15]   \n",
       "\n",
       "      away_points             away_team  conference_game home_conference  \\\n",
       "0              17        South Carolina             True             SEC   \n",
       "1               0  Presbyterian College            False             SEC   \n",
       "2              31               Florida             True             SEC   \n",
       "3              13                Auburn             True             SEC   \n",
       "4               7                 UMass            False             SEC   \n",
       "...           ...                   ...              ...             ...   \n",
       "4822           31     Appalachian State             True        Sun Belt   \n",
       "4823           24                 Idaho             True        Sun Belt   \n",
       "4830            7         Florida State            False             SEC   \n",
       "4831           42             Tennessee            False             ACC   \n",
       "4832           28               Georgia             True             SEC   \n",
       "\n",
       "        home_line_scores  home_points  ...                   name  state  \\\n",
       "0          [0, 10, 3, 0]           13  ...     Vanderbilt Stadium     TN   \n",
       "1        [10, 17, 28, 3]           58  ...     Vanderbilt Stadium     TN   \n",
       "2          [7, 0, 0, 10]           17  ...     Vanderbilt Stadium     TN   \n",
       "3           [7, 3, 7, 0]           17  ...     Vanderbilt Stadium     TN   \n",
       "4         [7, 14, 28, 0]           49  ...     Vanderbilt Stadium     TN   \n",
       "...                  ...          ...  ...                    ...    ...   \n",
       "4822        [0, 7, 0, 3]           10  ...  Georgia State Stadium     GA   \n",
       "4823        [7, 3, 0, 0]           10  ...  Georgia State Stadium     GA   \n",
       "4830       [3, 7, 11, 3]           24  ...  Mercedes-Benz Stadium     GA   \n",
       "4831  [7, 7, 7, 7, 7, 6]           41  ...  Mercedes-Benz Stadium     GA   \n",
       "4832        [7, 0, 0, 0]            7  ...  Mercedes-Benz Stadium     GA   \n",
       "\n",
       "      year_constructed      zip attendance_percentage home_team_ranked_ind  \\\n",
       "0               1922.0  37212.0              0.951499                    0   \n",
       "1               1922.0  37212.0              0.879579                    0   \n",
       "2               1922.0  37212.0              1.000000                    0   \n",
       "3               1922.0  37212.0              1.000000                    0   \n",
       "4               1922.0  37212.0              0.798686                    0   \n",
       "...                ...      ...                   ...                  ...   \n",
       "4822            2017.0  30315.0              0.540583                    0   \n",
       "4823            2017.0  30315.0              0.582049                    0   \n",
       "4830            2017.0  30313.0              1.075070                    1   \n",
       "4831            2017.0  30313.0              1.057845                    0   \n",
       "4832            2017.0  30313.0              1.077944                    1   \n",
       "\n",
       "     away_team_ranked_ind  rain  max_temp  min_temp  \n",
       "0                       1   0.0       NaN       NaN  \n",
       "1                       0   0.0       NaN       NaN  \n",
       "2                       1   5.0       NaN       NaN  \n",
       "3                       0   0.0       NaN       NaN  \n",
       "4                       0  38.0       NaN       NaN  \n",
       "...                   ...   ...       ...       ...  \n",
       "4822                    0   NaN       NaN       NaN  \n",
       "4823                    0   NaN       NaN       NaN  \n",
       "4830                    1   NaN       NaN       NaN  \n",
       "4831                    1   NaN       NaN       NaN  \n",
       "4832                    1   NaN       NaN       NaN  \n",
       "\n",
       "[4818 rows x 36 columns]"
      ]
     },
     "execution_count": 3,
     "metadata": {},
     "output_type": "execute_result"
    }
   ],
   "source": [
    "attendance_data_with_rain_data = attendance_data_with_rain_data[attendance_data_with_rain_data[\"attendance_percentage\"] <= 1.25]\n",
    "attendance_data_with_rain_data"
   ]
  },
  {
   "cell_type": "markdown",
   "metadata": {},
   "source": [
    "----------------\n",
    "\n",
    "# What factors influenced attendance rates at College Football games over the 2012 - 2018 seasons?  "
   ]
  },
  {
   "cell_type": "markdown",
   "metadata": {},
   "source": [
    "## *H1. Larger stadium capacities have higher percentages of attendance than stadiums that accommodate less people.*\n",
    "\n",
    "If you build it they will come!!"
   ]
  },
  {
   "cell_type": "code",
   "execution_count": 4,
   "metadata": {},
   "outputs": [],
   "source": [
    "stadiums = attendance_data_with_rain_data[\"name\"].unique()\n",
    "average_attendance_percentages = []\n",
    "capacities = []\n",
    "\n",
    "for stadium in stadiums:\n",
    "    stadium_rows = attendance_data_with_rain_data[attendance_data_with_rain_data[\"name\"] == stadium]\n",
    "    average_attendance_percentage = np.mean(stadium_rows[\"attendance_percentage\"])\n",
    "    capacity = np.mean(stadium_rows[\"capacity\"])\n",
    "    capacities.append(capacity)\n",
    "    average_attendance_percentages.append(average_attendance_percentage) \n",
    "    \n",
    "average_attendance_data = pd.DataFrame()\n",
    "average_attendance_data[\"name\"] = stadiums\n",
    "average_attendance_data[\"capacity\"] = capacities\n",
    "average_attendance_data[\"average_attendance_percentage\"] = average_attendance_percentages"
   ]
  },
  {
   "cell_type": "code",
   "execution_count": 5,
   "metadata": {},
   "outputs": [
    {
     "data": {
      "text/html": [
       "<div>\n",
       "<style scoped>\n",
       "    .dataframe tbody tr th:only-of-type {\n",
       "        vertical-align: middle;\n",
       "    }\n",
       "\n",
       "    .dataframe tbody tr th {\n",
       "        vertical-align: top;\n",
       "    }\n",
       "\n",
       "    .dataframe thead th {\n",
       "        text-align: right;\n",
       "    }\n",
       "</style>\n",
       "<table border=\"1\" class=\"dataframe\">\n",
       "  <thead>\n",
       "    <tr style=\"text-align: right;\">\n",
       "      <th></th>\n",
       "      <th>name</th>\n",
       "      <th>capacity</th>\n",
       "      <th>average_attendance_percentage</th>\n",
       "    </tr>\n",
       "  </thead>\n",
       "  <tbody>\n",
       "    <tr>\n",
       "      <th>155</th>\n",
       "      <td>Bristol Motor Speedway</td>\n",
       "      <td>162000.0</td>\n",
       "      <td>0.969074</td>\n",
       "    </tr>\n",
       "    <tr>\n",
       "      <th>77</th>\n",
       "      <td>Michigan Stadium</td>\n",
       "      <td>107601.0</td>\n",
       "      <td>1.023081</td>\n",
       "    </tr>\n",
       "    <tr>\n",
       "      <th>26</th>\n",
       "      <td>Beaver Stadium</td>\n",
       "      <td>106572.0</td>\n",
       "      <td>0.942074</td>\n",
       "    </tr>\n",
       "    <tr>\n",
       "      <th>20</th>\n",
       "      <td>Ohio Stadium</td>\n",
       "      <td>104944.0</td>\n",
       "      <td>1.012530</td>\n",
       "    </tr>\n",
       "    <tr>\n",
       "      <th>78</th>\n",
       "      <td>Kyle Field</td>\n",
       "      <td>102733.0</td>\n",
       "      <td>0.943094</td>\n",
       "    </tr>\n",
       "  </tbody>\n",
       "</table>\n",
       "</div>"
      ],
      "text/plain": [
       "                       name  capacity  average_attendance_percentage\n",
       "155  Bristol Motor Speedway  162000.0                       0.969074\n",
       "77         Michigan Stadium  107601.0                       1.023081\n",
       "26           Beaver Stadium  106572.0                       0.942074\n",
       "20             Ohio Stadium  104944.0                       1.012530\n",
       "78               Kyle Field  102733.0                       0.943094"
      ]
     },
     "execution_count": 5,
     "metadata": {},
     "output_type": "execute_result"
    }
   ],
   "source": [
    "largest_stadiums = average_attendance_data.nlargest(5, \"capacity\")\n",
    "largest_stadiums[[\"name\", \"capacity\", \"average_attendance_percentage\"]]"
   ]
  },
  {
   "cell_type": "code",
   "execution_count": 6,
   "metadata": {},
   "outputs": [
    {
     "data": {
      "text/html": [
       "<div>\n",
       "<style scoped>\n",
       "    .dataframe tbody tr th:only-of-type {\n",
       "        vertical-align: middle;\n",
       "    }\n",
       "\n",
       "    .dataframe tbody tr th {\n",
       "        vertical-align: top;\n",
       "    }\n",
       "\n",
       "    .dataframe thead th {\n",
       "        text-align: right;\n",
       "    }\n",
       "</style>\n",
       "<table border=\"1\" class=\"dataframe\">\n",
       "  <thead>\n",
       "    <tr style=\"text-align: right;\">\n",
       "      <th></th>\n",
       "      <th>name</th>\n",
       "      <th>capacity</th>\n",
       "      <th>average_attendance_percentage</th>\n",
       "    </tr>\n",
       "  </thead>\n",
       "  <tbody>\n",
       "    <tr>\n",
       "      <th>146</th>\n",
       "      <td>Jerry Richardson Stadium</td>\n",
       "      <td>15314.0</td>\n",
       "      <td>0.861254</td>\n",
       "    </tr>\n",
       "    <tr>\n",
       "      <th>11</th>\n",
       "      <td>Kibbie Dome</td>\n",
       "      <td>16000.0</td>\n",
       "      <td>0.762361</td>\n",
       "    </tr>\n",
       "    <tr>\n",
       "      <th>137</th>\n",
       "      <td>Warren McGuirk Alumni Stadium</td>\n",
       "      <td>17000.0</td>\n",
       "      <td>0.694376</td>\n",
       "    </tr>\n",
       "    <tr>\n",
       "      <th>121</th>\n",
       "      <td>Foreman Field</td>\n",
       "      <td>20118.0</td>\n",
       "      <td>1.000112</td>\n",
       "    </tr>\n",
       "    <tr>\n",
       "      <th>54</th>\n",
       "      <td>Houchens Industries-L. T. Smith Stadium</td>\n",
       "      <td>22113.0</td>\n",
       "      <td>0.778348</td>\n",
       "    </tr>\n",
       "  </tbody>\n",
       "</table>\n",
       "</div>"
      ],
      "text/plain": [
       "                                        name  capacity  \\\n",
       "146                 Jerry Richardson Stadium   15314.0   \n",
       "11                               Kibbie Dome   16000.0   \n",
       "137            Warren McGuirk Alumni Stadium   17000.0   \n",
       "121                            Foreman Field   20118.0   \n",
       "54   Houchens Industries-L. T. Smith Stadium   22113.0   \n",
       "\n",
       "     average_attendance_percentage  \n",
       "146                       0.861254  \n",
       "11                        0.762361  \n",
       "137                       0.694376  \n",
       "121                       1.000112  \n",
       "54                        0.778348  "
      ]
     },
     "execution_count": 6,
     "metadata": {},
     "output_type": "execute_result"
    }
   ],
   "source": [
    "smallest_stadiums = average_attendance_data.nsmallest(5, \"capacity\")\n",
    "smallest_stadiums[[\"name\", \"capacity\", \"average_attendance_percentage\"]]"
   ]
  },
  {
   "cell_type": "code",
   "execution_count": null,
   "metadata": {},
   "outputs": [],
   "source": []
  },
  {
   "cell_type": "markdown",
   "metadata": {},
   "source": [
    "------------------------\n",
    "## *H2. The higher the quality of the home team for the game week, the higher the percentage of attendance.*"
   ]
  },
  {
   "cell_type": "code",
   "execution_count": 7,
   "metadata": {},
   "outputs": [
    {
     "data": {
      "image/png": "[encoded data removed]",
      "text/plain": [
       "<Figure size 432x288 with 1 Axes>"
      ]
     },
     "metadata": {
      "needs_background": "light"
     },
     "output_type": "display_data"
    }
   ],
   "source": [
    "home_team_ranked = attendance_data_with_rain_data[attendance_data_with_rain_data[\"home_team_ranked_ind\"] == 1][\"attendance_percentage\"]\n",
    "home_team_unranked = attendance_data_with_rain_data[attendance_data_with_rain_data[\"home_team_ranked_ind\"] == 0][\"attendance_percentage\"]\n",
    "\n",
    "data = [home_team_ranked, home_team_unranked]\n",
    "fig, ax = plt.subplots()\n",
    "ax.set_title(\"Home Team\")\n",
    "bp = ax.boxplot(data)\n",
    "\n",
    "# change outline color, fill color and linewidth of the boxes\n",
    "for box in bp[\"boxes\"]:\n",
    "    # change outline color\n",
    "    box.set(color=\"brown\", linewidth=2)\n",
    "\n",
    "# change color and linewidth of the whiskers\n",
    "for whisker in bp[\"whiskers\"]:\n",
    "    whisker.set(color=\"brown\", linewidth=2)\n",
    "\n",
    "# change color and linewidth of the medians\n",
    "for median in bp[\"medians\"]:\n",
    "    median.set(color=\"green\", linewidth=2)\n",
    "\n",
    "plt.title(\"Home team ranked indicator\")\n",
    "    \n",
    "plt.show()"
   ]
  },
  {
   "cell_type": "code",
   "execution_count": 8,
   "metadata": {},
   "outputs": [],
   "source": [
    "from scipy.stats import ttest_ind\n",
    "\n",
    "t, p = ttest_ind(home_team_ranked, home_team_unranked, equal_var=False)"
   ]
  },
  {
   "cell_type": "code",
   "execution_count": 9,
   "metadata": {},
   "outputs": [
    {
     "data": {
      "text/plain": [
       "44.229968590611314"
      ]
     },
     "execution_count": 9,
     "metadata": {},
     "output_type": "execute_result"
    }
   ],
   "source": [
    "t"
   ]
  },
  {
   "cell_type": "code",
   "execution_count": 10,
   "metadata": {},
   "outputs": [
    {
     "data": {
      "text/plain": [
       "0.0"
      ]
     },
     "execution_count": 10,
     "metadata": {},
     "output_type": "execute_result"
    }
   ],
   "source": [
    "p"
   ]
  },
  {
   "cell_type": "markdown",
   "metadata": {},
   "source": [
    "--------------------\n",
    "## *H3. The higher the quality of the away team for the game week, the higher the percentage of attendance.*"
   ]
  },
  {
   "cell_type": "code",
   "execution_count": 11,
   "metadata": {},
   "outputs": [
    {
     "data": {
      "image/png": "[encoded data removed]",
      "text/plain": [
       "<Figure size 432x288 with 1 Axes>"
      ]
     },
     "metadata": {
      "needs_background": "light"
     },
     "output_type": "display_data"
    }
   ],
   "source": [
    "away_team_ranked = attendance_data_with_rain_data[attendance_data_with_rain_data[\"away_team_ranked_ind\"] == 1][\"attendance_percentage\"]\n",
    "away_team_unranked = attendance_data_with_rain_data[attendance_data_with_rain_data[\"away_team_ranked_ind\"] == 0][\"attendance_percentage\"]\n",
    "\n",
    "data = [away_team_ranked, away_team_unranked]\n",
    "fig, ax = plt.subplots()\n",
    "ax.set_title(\"Away Team\")\n",
    "bp = ax.boxplot(data)\n",
    "\n",
    "## change outline color, fill color and linewidth of the boxes\n",
    "for box in bp[\"boxes\"]:\n",
    "    # change outline color\n",
    "    box.set(color=\"brown\", linewidth=2)\n",
    "\n",
    "## change color and linewidth of the whiskers\n",
    "for whisker in bp[\"whiskers\"]:\n",
    "    whisker.set(color=\"brown\", linewidth=2)\n",
    "\n",
    "## change color and linewidth of the medians\n",
    "for median in bp[\"medians\"]:\n",
    "    median.set(color=\"green\", linewidth=2)\n",
    "\n",
    "plt.show()"
   ]
  },
  {
   "cell_type": "code",
   "execution_count": 12,
   "metadata": {},
   "outputs": [],
   "source": [
    "t, p = ttest_ind(away_team_ranked, away_team_unranked, equal_var=False)"
   ]
  },
  {
   "cell_type": "code",
   "execution_count": 13,
   "metadata": {},
   "outputs": [
    {
     "data": {
      "text/plain": [
       "21.350051855612122"
      ]
     },
     "execution_count": 13,
     "metadata": {},
     "output_type": "execute_result"
    }
   ],
   "source": [
    "t"
   ]
  },
  {
   "cell_type": "code",
   "execution_count": 14,
   "metadata": {},
   "outputs": [
    {
     "data": {
      "text/plain": [
       "7.904205655286066e-88"
      ]
     },
     "execution_count": 14,
     "metadata": {},
     "output_type": "execute_result"
    }
   ],
   "source": [
    "p"
   ]
  },
  {
   "cell_type": "markdown",
   "metadata": {},
   "source": [
    "---------------------\n",
    "## *H4. Conference matchups have higher percentages of attendance than non-conference games.*"
   ]
  },
  {
   "cell_type": "code",
   "execution_count": 15,
   "metadata": {},
   "outputs": [
    {
     "data": {
      "image/png": "[encoded data removed]",
      "text/plain": [
       "<Figure size 432x288 with 1 Axes>"
      ]
     },
     "metadata": {
      "needs_background": "light"
     },
     "output_type": "display_data"
    }
   ],
   "source": [
    "conference_matchups = attendance_data_with_rain_data[attendance_data_with_rain_data[\"conference_game\"]][\"attendance_percentage\"]\n",
    "non_conference_matchups = attendance_data_with_rain_data[attendance_data_with_rain_data[\"conference_game\"] == False][\"attendance_percentage\"]\n",
    "\n",
    "data = [conference_matchups, non_conference_matchups]\n",
    "fig, ax = plt.subplots()\n",
    "ax.set_title(\"Conference Ind\")\n",
    "bp = ax.boxplot(data)\n",
    "\n",
    "## change outline color, fill color and linewidth of the boxes\n",
    "for box in bp[\"boxes\"]:\n",
    "    # change outline color\n",
    "    box.set(color=\"brown\", linewidth=2)\n",
    "\n",
    "## change color and linewidth of the whiskers\n",
    "for whisker in bp[\"whiskers\"]:\n",
    "    whisker.set(color=\"brown\", linewidth=2)\n",
    "\n",
    "## change color and linewidth of the medians\n",
    "for median in bp[\"medians\"]:\n",
    "    median.set(color=\"green\", linewidth=2)\n",
    "\n",
    "plt.show()"
   ]
  },
  {
   "cell_type": "code",
   "execution_count": 16,
   "metadata": {},
   "outputs": [],
   "source": [
    "t, p = ttest_ind(conference_matchups, non_conference_matchups, equal_var=False)"
   ]
  },
  {
   "cell_type": "code",
   "execution_count": 17,
   "metadata": {},
   "outputs": [
    {
     "data": {
      "text/plain": [
       "-8.475536047227644"
      ]
     },
     "execution_count": 17,
     "metadata": {},
     "output_type": "execute_result"
    }
   ],
   "source": [
    "t"
   ]
  },
  {
   "cell_type": "code",
   "execution_count": 18,
   "metadata": {},
   "outputs": [
    {
     "data": {
      "text/plain": [
       "3.167357532717905e-17"
      ]
     },
     "execution_count": 18,
     "metadata": {},
     "output_type": "execute_result"
    }
   ],
   "source": [
    "p"
   ]
  },
  {
   "cell_type": "markdown",
   "metadata": {},
   "source": [
    "--------------------------\n",
    "## *H5. Games with a temperate kickoff temperature will have higher percentages of attendance than those with extremely high or extremely low temperatures.*"
   ]
  },
  {
   "cell_type": "code",
   "execution_count": 19,
   "metadata": {},
   "outputs": [],
   "source": [
    "attendance_data_with_rain_data[\"max_temp\"] = ((attendance_data_with_rain_data[\"max_temp\"] / 10.0) * (9.0/5.0)) + 32\n",
    "attendance_data_with_rain_data[\"min_temp\"] = ((attendance_data_with_rain_data[\"min_temp\"] / 10.0) * (9.0/5.0)) + 32"
   ]
  },
  {
   "cell_type": "code",
   "execution_count": 36,
   "metadata": {},
   "outputs": [
    {
     "data": {
      "image/png": "[encoded data removed]",
      "text/plain": [
       "<Figure size 432x288 with 1 Axes>"
      ]
     },
     "metadata": {
      "needs_background": "light"
     },
     "output_type": "display_data"
    }
   ],
   "source": [
    "max_temp_attendance = attendance_data_with_rain_data[attendance_data_with_rain_data[\"max_temp\"] >= 0]\n",
    "\n",
    "plt.plot(max_temp_attendance[\"max_temp\"], max_temp_attendance[\"attendance_percentage\"], \"o\")\n",
    "plt.plot(np.unique(max_temp_attendance[\"max_temp\"]), np.poly1d(np.polyfit(max_temp_attendance[\"max_temp\"], max_temp_attendance[\"attendance_percentage\"], 1))(np.unique(max_temp_attendance[\"max_temp\"])))\n",
    "\n",
    "plt.title(\"Attendance percentage under maximum gameday temperatures\")\n",
    "plt.ylabel(\"Attendance percentage\")\n",
    "plt.xlabel(\"Maximum temperature (F)\")\n",
    "plt.show()"
   ]
  },
  {
   "cell_type": "code",
   "execution_count": 33,
   "metadata": {},
   "outputs": [
    {
     "data": {
      "image/png": "[encoded data removed]",
      "text/plain": [
       "<Figure size 432x288 with 1 Axes>"
      ]
     },
     "metadata": {
      "needs_background": "light"
     },
     "output_type": "display_data"
    }
   ],
   "source": [
    "min_temp_attendance = attendance_data_with_rain_data[attendance_data_with_rain_data[\"min_temp\"] >= 0]\n",
    "\n",
    "plt.plot(min_temp_attendance[\"min_temp\"], min_temp_attendance[\"attendance_percentage\"], \"o\")\n",
    "plt.plot(np.unique(min_temp_attendance[\"min_temp\"]), np.poly1d(np.polyfit(min_temp_attendance[\"min_temp\"], min_temp_attendance[\"attendance_percentage\"], 1))(np.unique(min_temp_attendance[\"min_temp\"])))\n",
    "\n",
    "plt.title(\"Attendance percentage under maximum gameday temperatures\")\n",
    "plt.ylabel(\"Attendance percentage\")\n",
    "plt.xlabel(\"Minimum Temperature (F)\")\n",
    "plt.show()"
   ]
  },
  {
   "cell_type": "markdown",
   "metadata": {},
   "source": [
    "-----------------------\n",
    "## H6. *Games without rain will have higher percentages of attendance than those with rain.*"
   ]
  },
  {
   "cell_type": "code",
   "execution_count": 22,
   "metadata": {},
   "outputs": [
    {
     "data": {
      "image/png": "[encoded data removed]",
      "text/plain": [
       "<Figure size 432x288 with 1 Axes>"
      ]
     },
     "metadata": {
      "needs_background": "light"
     },
     "output_type": "display_data"
    }
   ],
   "source": [
    "attendance_with_rain = attendance_data_with_rain_data[attendance_data_with_rain_data[\"rain\"] == 0][\"attendance_percentage\"]\n",
    "attendance_without_rain = attendance_data_with_rain_data[attendance_data_with_rain_data[\"rain\"] > 0][\"attendance_percentage\"]\n",
    "\n",
    "data = [attendance_with_rain, attendance_without_rain]\n",
    "fig, ax = plt.subplots()\n",
    "ax.set_title(\"Attendance under rain\")\n",
    "bp = ax.boxplot(data)\n",
    "\n",
    "## change outline color, fill color and linewidth of the boxes\n",
    "for box in bp[\"boxes\"]:\n",
    "    # change outline color\n",
    "    box.set(color=\"brown\", linewidth=2)\n",
    "\n",
    "## change color and linewidth of the whiskers\n",
    "for whisker in bp[\"whiskers\"]:\n",
    "    whisker.set(color=\"brown\", linewidth=2)\n",
    "\n",
    "## change color and linewidth of the medians\n",
    "for median in bp[\"medians\"]:\n",
    "    median.set(color=\"green\", linewidth=2)\n",
    "\n",
    "plt.show()"
   ]
  },
  {
   "cell_type": "code",
   "execution_count": 23,
   "metadata": {},
   "outputs": [],
   "source": [
    "t, p = ttest_ind(attendance_with_rain, attendance_without_rain, equal_var=False)"
   ]
  },
  {
   "cell_type": "code",
   "execution_count": 24,
   "metadata": {},
   "outputs": [
    {
     "data": {
      "text/plain": [
       "-0.43376332693678626"
      ]
     },
     "execution_count": 24,
     "metadata": {},
     "output_type": "execute_result"
    }
   ],
   "source": [
    "t"
   ]
  },
  {
   "cell_type": "code",
   "execution_count": 25,
   "metadata": {},
   "outputs": [
    {
     "data": {
      "text/plain": [
       "0.6645626256757167"
      ]
     },
     "execution_count": 25,
     "metadata": {},
     "output_type": "execute_result"
    }
   ],
   "source": [
    "p"
   ]
  },
  {
   "cell_type": "code",
   "execution_count": null,
   "metadata": {},
   "outputs": [],
   "source": []
  }
 ],
 "metadata": {
  "kernelspec": {
   "display_name": "Python 3",
   "language": "python",
   "name": "python3"
  },
  "language_info": {
   "codemirror_mode": {
    "name": "ipython",
    "version": 3
   },
   "file_extension": ".py",
   "mimetype": "text/x-python",
   "name": "python",
   "nbconvert_exporter": "python",
   "pygments_lexer": "ipython3",
   "version": "3.5.5"
  }
 },
 "nbformat": 4,
 "nbformat_minor": 2
}
