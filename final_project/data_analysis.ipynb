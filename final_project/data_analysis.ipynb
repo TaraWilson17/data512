{
 "cells": [
  {
   "cell_type": "markdown",
   "metadata": {},
   "source": [
    "# Data anlysis"
   ]
  },
  {
   "cell_type": "code",
   "execution_count": 1,
   "metadata": {},
   "outputs": [],
   "source": [
    "from scipy.stats import sem\n",
    "from scipy.stats import t\n",
    "from scipy.stats import ttest_ind\n",
    "from math import sqrt\n",
    "import numpy as np\n",
    "import pandas as pd\n",
    "import matplotlib.pyplot as plt"
   ]
  },
  {
   "cell_type": "code",
   "execution_count": 2,
   "metadata": {},
   "outputs": [],
   "source": [
    "attendance_data_with_rain_data = pd.read_csv(\"processed_data/seasons_2012-2018_attendance_data.csv\")"
   ]
  },
  {
   "cell_type": "code",
   "execution_count": 3,
   "metadata": {},
   "outputs": [
    {
     "data": {
      "text/plain": [
       "4818"
      ]
     },
     "execution_count": 3,
     "metadata": {},
     "output_type": "execute_result"
    }
   ],
   "source": [
    "attendance_data_with_rain_data = attendance_data_with_rain_data[attendance_data_with_rain_data[\"attendance_percentage\"] <= 1.25]\n",
    "len(attendance_data_with_rain_data)"
   ]
  },
  {
   "cell_type": "markdown",
   "metadata": {},
   "source": [
    "----------------\n",
    "\n",
    "# What factors influenced attendance rates at College Football games over the 2012 - 2018 seasons?  "
   ]
  },
  {
   "cell_type": "markdown",
   "metadata": {},
   "source": [
    "## *H1. Larger stadium capacities have higher percentages of attendance than stadiums that accommodate less people.*\n",
    "\n",
    "If you build it they will come!!"
   ]
  },
  {
   "cell_type": "code",
   "execution_count": 4,
   "metadata": {},
   "outputs": [],
   "source": [
    "stadiums = attendance_data_with_rain_data[\"name\"].unique()\n",
    "average_attendance_percentages = []\n",
    "capacities = []\n",
    "\n",
    "for stadium in stadiums:\n",
    "    stadium_rows = attendance_data_with_rain_data[attendance_data_with_rain_data[\"name\"] == stadium]\n",
    "    average_attendance_percentage = np.mean(stadium_rows[\"attendance_percentage\"])\n",
    "    capacity = np.mean(stadium_rows[\"capacity\"])\n",
    "    capacities.append(capacity)\n",
    "    average_attendance_percentages.append(average_attendance_percentage) \n",
    "    \n",
    "average_attendance_data = pd.DataFrame()\n",
    "average_attendance_data[\"name\"] = stadiums\n",
    "average_attendance_data[\"capacity\"] = capacities\n",
    "average_attendance_data[\"average_attendance_percentage\"] = average_attendance_percentages"
   ]
  },
  {
   "cell_type": "code",
   "execution_count": 5,
   "metadata": {},
   "outputs": [
    {
     "data": {
      "text/html": [
       "<div>\n",
       "<style scoped>\n",
       "    .dataframe tbody tr th:only-of-type {\n",
       "        vertical-align: middle;\n",
       "    }\n",
       "\n",
       "    .dataframe tbody tr th {\n",
       "        vertical-align: top;\n",
       "    }\n",
       "\n",
       "    .dataframe thead th {\n",
       "        text-align: right;\n",
       "    }\n",
       "</style>\n",
       "<table border=\"1\" class=\"dataframe\">\n",
       "  <thead>\n",
       "    <tr style=\"text-align: right;\">\n",
       "      <th></th>\n",
       "      <th>name</th>\n",
       "      <th>capacity</th>\n",
       "      <th>average_attendance_percentage</th>\n",
       "    </tr>\n",
       "  </thead>\n",
       "  <tbody>\n",
       "    <tr>\n",
       "      <th>155</th>\n",
       "      <td>Bristol Motor Speedway</td>\n",
       "      <td>162000.0</td>\n",
       "      <td>0.969074</td>\n",
       "    </tr>\n",
       "    <tr>\n",
       "      <th>77</th>\n",
       "      <td>Michigan Stadium</td>\n",
       "      <td>107601.0</td>\n",
       "      <td>1.023081</td>\n",
       "    </tr>\n",
       "    <tr>\n",
       "      <th>26</th>\n",
       "      <td>Beaver Stadium</td>\n",
       "      <td>106572.0</td>\n",
       "      <td>0.942074</td>\n",
       "    </tr>\n",
       "    <tr>\n",
       "      <th>20</th>\n",
       "      <td>Ohio Stadium</td>\n",
       "      <td>104944.0</td>\n",
       "      <td>1.012530</td>\n",
       "    </tr>\n",
       "    <tr>\n",
       "      <th>78</th>\n",
       "      <td>Kyle Field</td>\n",
       "      <td>102733.0</td>\n",
       "      <td>0.943094</td>\n",
       "    </tr>\n",
       "  </tbody>\n",
       "</table>\n",
       "</div>"
      ],
      "text/plain": [
       "                       name  capacity  average_attendance_percentage\n",
       "155  Bristol Motor Speedway  162000.0                       0.969074\n",
       "77         Michigan Stadium  107601.0                       1.023081\n",
       "26           Beaver Stadium  106572.0                       0.942074\n",
       "20             Ohio Stadium  104944.0                       1.012530\n",
       "78               Kyle Field  102733.0                       0.943094"
      ]
     },
     "execution_count": 5,
     "metadata": {},
     "output_type": "execute_result"
    }
   ],
   "source": [
    "largest_stadiums = average_attendance_data.nlargest(5, \"capacity\")\n",
    "largest_stadiums[[\"name\", \"capacity\", \"average_attendance_percentage\"]]"
   ]
  },
  {
   "cell_type": "code",
   "execution_count": 6,
   "metadata": {},
   "outputs": [
    {
     "data": {
      "text/html": [
       "<div>\n",
       "<style scoped>\n",
       "    .dataframe tbody tr th:only-of-type {\n",
       "        vertical-align: middle;\n",
       "    }\n",
       "\n",
       "    .dataframe tbody tr th {\n",
       "        vertical-align: top;\n",
       "    }\n",
       "\n",
       "    .dataframe thead th {\n",
       "        text-align: right;\n",
       "    }\n",
       "</style>\n",
       "<table border=\"1\" class=\"dataframe\">\n",
       "  <thead>\n",
       "    <tr style=\"text-align: right;\">\n",
       "      <th></th>\n",
       "      <th>name</th>\n",
       "      <th>capacity</th>\n",
       "      <th>average_attendance_percentage</th>\n",
       "    </tr>\n",
       "  </thead>\n",
       "  <tbody>\n",
       "    <tr>\n",
       "      <th>146</th>\n",
       "      <td>Jerry Richardson Stadium</td>\n",
       "      <td>15314.0</td>\n",
       "      <td>0.861254</td>\n",
       "    </tr>\n",
       "    <tr>\n",
       "      <th>11</th>\n",
       "      <td>Kibbie Dome</td>\n",
       "      <td>16000.0</td>\n",
       "      <td>0.762361</td>\n",
       "    </tr>\n",
       "    <tr>\n",
       "      <th>137</th>\n",
       "      <td>Warren McGuirk Alumni Stadium</td>\n",
       "      <td>17000.0</td>\n",
       "      <td>0.694376</td>\n",
       "    </tr>\n",
       "    <tr>\n",
       "      <th>121</th>\n",
       "      <td>Foreman Field</td>\n",
       "      <td>20118.0</td>\n",
       "      <td>1.000112</td>\n",
       "    </tr>\n",
       "    <tr>\n",
       "      <th>54</th>\n",
       "      <td>Houchens Industries-L. T. Smith Stadium</td>\n",
       "      <td>22113.0</td>\n",
       "      <td>0.778348</td>\n",
       "    </tr>\n",
       "  </tbody>\n",
       "</table>\n",
       "</div>"
      ],
      "text/plain": [
       "                                        name  capacity  \\\n",
       "146                 Jerry Richardson Stadium   15314.0   \n",
       "11                               Kibbie Dome   16000.0   \n",
       "137            Warren McGuirk Alumni Stadium   17000.0   \n",
       "121                            Foreman Field   20118.0   \n",
       "54   Houchens Industries-L. T. Smith Stadium   22113.0   \n",
       "\n",
       "     average_attendance_percentage  \n",
       "146                       0.861254  \n",
       "11                        0.762361  \n",
       "137                       0.694376  \n",
       "121                       1.000112  \n",
       "54                        0.778348  "
      ]
     },
     "execution_count": 6,
     "metadata": {},
     "output_type": "execute_result"
    }
   ],
   "source": [
    "smallest_stadiums = average_attendance_data.nsmallest(5, \"capacity\")\n",
    "smallest_stadiums[[\"name\", \"capacity\", \"average_attendance_percentage\"]]"
   ]
  },
  {
   "cell_type": "code",
   "execution_count": null,
   "metadata": {},
   "outputs": [],
   "source": []
  },
  {
   "cell_type": "markdown",
   "metadata": {},
   "source": [
    "------------------------\n",
    "## *H2. The higher the quality of the home team for the game week, the higher the percentage of attendance.*"
   ]
  },
  {
   "cell_type": "code",
   "execution_count": 7,
   "metadata": {},
   "outputs": [
    {
     "data": {
      "image/png": "[encoded data removed]",
      "text/plain": [
       "<Figure size 720x432 with 1 Axes>"
      ]
     },
     "metadata": {
      "needs_background": "light"
     },
     "output_type": "display_data"
    }
   ],
   "source": [
    "home_team_ranked = attendance_data_with_rain_data[attendance_data_with_rain_data[\"home_team_ranked_ind\"] == 1][\"attendance_percentage\"]\n",
    "home_team_unranked = attendance_data_with_rain_data[attendance_data_with_rain_data[\"home_team_ranked_ind\"] == 0][\"attendance_percentage\"]\n",
    "\n",
    "data = [home_team_ranked, home_team_unranked]\n",
    "fig, ax = plt.subplots(figsize=(10,6))\n",
    "bp = ax.boxplot(data, 0, \"gD\", patch_artist=True, labels=[\"Ranked\", \"Unranked\"])\n",
    "\n",
    "for box in bp[\"boxes\"]:\n",
    "    box.set(color=\"burlywood\", linewidth=2)\n",
    "\n",
    "for median in bp[\"medians\"]:\n",
    "    median.set(color=\"green\", linewidth=2)\n",
    "\n",
    "plt.ylabel(\"Attendance percentage\")\n",
    "plt.title(\"Influence of home team ranking on game attendance\")\n",
    "plt.show()"
   ]
  },
  {
   "cell_type": "code",
   "execution_count": 8,
   "metadata": {},
   "outputs": [
    {
     "data": {
      "text/html": [
       "<div>\n",
       "<style scoped>\n",
       "    .dataframe tbody tr th:only-of-type {\n",
       "        vertical-align: middle;\n",
       "    }\n",
       "\n",
       "    .dataframe tbody tr th {\n",
       "        vertical-align: top;\n",
       "    }\n",
       "\n",
       "    .dataframe thead th {\n",
       "        text-align: right;\n",
       "    }\n",
       "</style>\n",
       "<table border=\"1\" class=\"dataframe\">\n",
       "  <thead>\n",
       "    <tr style=\"text-align: right;\">\n",
       "      <th></th>\n",
       "      <th>p_value</th>\n",
       "      <th>t_value</th>\n",
       "    </tr>\n",
       "  </thead>\n",
       "  <tbody>\n",
       "    <tr>\n",
       "      <th>0</th>\n",
       "      <td>0.0</td>\n",
       "      <td>44.229969</td>\n",
       "    </tr>\n",
       "  </tbody>\n",
       "</table>\n",
       "</div>"
      ],
      "text/plain": [
       "   p_value    t_value\n",
       "0      0.0  44.229969"
      ]
     },
     "execution_count": 8,
     "metadata": {},
     "output_type": "execute_result"
    }
   ],
   "source": [
    "t, p = ttest_ind(home_team_ranked, home_team_unranked, equal_var=False)\n",
    "pd.DataFrame({\"t_value\": [t], \"p_value\": [p]})"
   ]
  },
  {
   "cell_type": "markdown",
   "metadata": {},
   "source": [
    "--------------------\n",
    "## *H3. The higher the quality of the away team for the game week, the higher the percentage of attendance.*"
   ]
  },
  {
   "cell_type": "code",
   "execution_count": 9,
   "metadata": {},
   "outputs": [
    {
     "data": {
      "image/png": "[encoded data removed]",
      "text/plain": [
       "<Figure size 720x432 with 1 Axes>"
      ]
     },
     "metadata": {
      "needs_background": "light"
     },
     "output_type": "display_data"
    }
   ],
   "source": [
    "away_team_ranked = attendance_data_with_rain_data[attendance_data_with_rain_data[\"away_team_ranked_ind\"] == 1][\"attendance_percentage\"]\n",
    "away_team_unranked = attendance_data_with_rain_data[attendance_data_with_rain_data[\"away_team_ranked_ind\"] == 0][\"attendance_percentage\"]\n",
    "\n",
    "data = [away_team_ranked, away_team_unranked]\n",
    "fig, ax = plt.subplots(figsize=(10,6))\n",
    "bp = ax.boxplot(data, 0, \"gD\", patch_artist=True, labels=[\"Ranked\", \"Unranked\"])\n",
    "\n",
    "for box in bp[\"boxes\"]:\n",
    "    box.set(color=\"burlywood\", linewidth=2)\n",
    "\n",
    "for median in bp[\"medians\"]:\n",
    "    median.set(color=\"green\", linewidth=2)\n",
    "\n",
    "plt.ylabel(\"Attendance percentage\")\n",
    "plt.title(\"Influence of away team ranking on game attendance\")\n",
    "plt.show()"
   ]
  },
  {
   "cell_type": "code",
   "execution_count": 10,
   "metadata": {},
   "outputs": [
    {
     "data": {
      "text/html": [
       "<div>\n",
       "<style scoped>\n",
       "    .dataframe tbody tr th:only-of-type {\n",
       "        vertical-align: middle;\n",
       "    }\n",
       "\n",
       "    .dataframe tbody tr th {\n",
       "        vertical-align: top;\n",
       "    }\n",
       "\n",
       "    .dataframe thead th {\n",
       "        text-align: right;\n",
       "    }\n",
       "</style>\n",
       "<table border=\"1\" class=\"dataframe\">\n",
       "  <thead>\n",
       "    <tr style=\"text-align: right;\">\n",
       "      <th></th>\n",
       "      <th>p_value</th>\n",
       "      <th>t_value</th>\n",
       "    </tr>\n",
       "  </thead>\n",
       "  <tbody>\n",
       "    <tr>\n",
       "      <th>0</th>\n",
       "      <td>7.904206e-88</td>\n",
       "      <td>21.350052</td>\n",
       "    </tr>\n",
       "  </tbody>\n",
       "</table>\n",
       "</div>"
      ],
      "text/plain": [
       "        p_value    t_value\n",
       "0  7.904206e-88  21.350052"
      ]
     },
     "execution_count": 10,
     "metadata": {},
     "output_type": "execute_result"
    }
   ],
   "source": [
    "t, p = ttest_ind(away_team_ranked, away_team_unranked, equal_var=False)\n",
    "pd.DataFrame({\"t_value\": [t], \"p_value\": [p]})"
   ]
  },
  {
   "cell_type": "markdown",
   "metadata": {},
   "source": [
    "---------------------\n",
    "## *H4. Conference matchups have higher percentages of attendance than non-conference games.*"
   ]
  },
  {
   "cell_type": "code",
   "execution_count": 11,
   "metadata": {},
   "outputs": [
    {
     "data": {
      "image/png": "[encoded data removed]",
      "text/plain": [
       "<Figure size 720x432 with 1 Axes>"
      ]
     },
     "metadata": {
      "needs_background": "light"
     },
     "output_type": "display_data"
    }
   ],
   "source": [
    "conference_matchups = attendance_data_with_rain_data[attendance_data_with_rain_data[\"conference_game\"]][\"attendance_percentage\"]\n",
    "non_conference_matchups = attendance_data_with_rain_data[attendance_data_with_rain_data[\"conference_game\"] == False][\"attendance_percentage\"]\n",
    "\n",
    "data = [conference_matchups, non_conference_matchups]\n",
    "fig, ax = plt.subplots(figsize=(10,6))\n",
    "bp = ax.boxplot(data, 0, \"gD\", patch_artist=True, labels=[\"Conference matchup\", \"Non-conference matchup\"])\n",
    "\n",
    "for box in bp[\"boxes\"]:\n",
    "    box.set(color=\"burlywood\", linewidth=2)\n",
    "\n",
    "for median in bp[\"medians\"]:\n",
    "    median.set(color=\"green\", linewidth=2)\n",
    "\n",
    "plt.ylabel(\"Attendance percentage\")\n",
    "plt.title(\"Influence of conference rivalries on game attendance\")\n",
    "plt.show()"
   ]
  },
  {
   "cell_type": "code",
   "execution_count": 12,
   "metadata": {},
   "outputs": [
    {
     "data": {
      "text/html": [
       "<div>\n",
       "<style scoped>\n",
       "    .dataframe tbody tr th:only-of-type {\n",
       "        vertical-align: middle;\n",
       "    }\n",
       "\n",
       "    .dataframe tbody tr th {\n",
       "        vertical-align: top;\n",
       "    }\n",
       "\n",
       "    .dataframe thead th {\n",
       "        text-align: right;\n",
       "    }\n",
       "</style>\n",
       "<table border=\"1\" class=\"dataframe\">\n",
       "  <thead>\n",
       "    <tr style=\"text-align: right;\">\n",
       "      <th></th>\n",
       "      <th>p_value</th>\n",
       "      <th>t_value</th>\n",
       "    </tr>\n",
       "  </thead>\n",
       "  <tbody>\n",
       "    <tr>\n",
       "      <th>0</th>\n",
       "      <td>3.167358e-17</td>\n",
       "      <td>-8.475536</td>\n",
       "    </tr>\n",
       "  </tbody>\n",
       "</table>\n",
       "</div>"
      ],
      "text/plain": [
       "        p_value   t_value\n",
       "0  3.167358e-17 -8.475536"
      ]
     },
     "execution_count": 12,
     "metadata": {},
     "output_type": "execute_result"
    }
   ],
   "source": [
    "t, p = ttest_ind(conference_matchups, non_conference_matchups, equal_var=False)\n",
    "pd.DataFrame({\"t_value\": [t], \"p_value\": [p]})"
   ]
  },
  {
   "cell_type": "markdown",
   "metadata": {},
   "source": [
    "--------------------------\n",
    "## *H5. Games with a temperate kickoff temperature will have higher percentages of attendance than those with extremely high or extremely low temperatures.*"
   ]
  },
  {
   "cell_type": "code",
   "execution_count": 13,
   "metadata": {},
   "outputs": [],
   "source": [
    "attendance_data_with_rain_data[\"max_temp\"] = ((attendance_data_with_rain_data[\"max_temp\"] / 10.0) * (9.0/5.0)) + 32\n",
    "attendance_data_with_rain_data[\"min_temp\"] = ((attendance_data_with_rain_data[\"min_temp\"] / 10.0) * (9.0/5.0)) + 32"
   ]
  },
  {
   "cell_type": "code",
   "execution_count": 14,
   "metadata": {},
   "outputs": [
    {
     "data": {
      "image/png": "[encoded data removed]",
      "text/plain": [
       "<Figure size 432x288 with 1 Axes>"
      ]
     },
     "metadata": {
      "needs_background": "light"
     },
     "output_type": "display_data"
    }
   ],
   "source": [
    "max_temp_attendance = attendance_data_with_rain_data[attendance_data_with_rain_data[\"max_temp\"] >= 0]\n",
    "\n",
    "plt.plot(max_temp_attendance[\"max_temp\"], max_temp_attendance[\"attendance_percentage\"], \"o\")\n",
    "plt.plot(np.unique(max_temp_attendance[\"max_temp\"]), np.poly1d(np.polyfit(max_temp_attendance[\"max_temp\"], max_temp_attendance[\"attendance_percentage\"], 1))(np.unique(max_temp_attendance[\"max_temp\"])))\n",
    "\n",
    "plt.title(\"Attendance percentage under maximum gameday temperatures\")\n",
    "plt.ylabel(\"Attendance percentage\")\n",
    "plt.xlabel(\"Maximum temperature (F)\")\n",
    "plt.show()"
   ]
  },
  {
   "cell_type": "code",
   "execution_count": 15,
   "metadata": {},
   "outputs": [
    {
     "data": {
      "image/png": "[encoded data removed]",
      "text/plain": [
       "<Figure size 432x288 with 1 Axes>"
      ]
     },
     "metadata": {
      "needs_background": "light"
     },
     "output_type": "display_data"
    }
   ],
   "source": [
    "min_temp_attendance = attendance_data_with_rain_data[attendance_data_with_rain_data[\"min_temp\"] >= 0]\n",
    "\n",
    "plt.plot(min_temp_attendance[\"min_temp\"], min_temp_attendance[\"attendance_percentage\"], \"o\")\n",
    "plt.plot(np.unique(min_temp_attendance[\"min_temp\"]), np.poly1d(np.polyfit(min_temp_attendance[\"min_temp\"], min_temp_attendance[\"attendance_percentage\"], 1))(np.unique(min_temp_attendance[\"min_temp\"])))\n",
    "\n",
    "plt.title(\"Attendance percentage under maximum gameday temperatures\")\n",
    "plt.ylabel(\"Attendance percentage\")\n",
    "plt.xlabel(\"Minimum Temperature (F)\")\n",
    "plt.show()"
   ]
  },
  {
   "cell_type": "markdown",
   "metadata": {},
   "source": [
    "-----------------------\n",
    "## H6. *Games without rain will have higher percentages of attendance than those with rain.*"
   ]
  },
  {
   "cell_type": "code",
   "execution_count": 16,
   "metadata": {},
   "outputs": [
    {
     "data": {
      "image/png": "[encoded data removed]",
      "text/plain": [
       "<Figure size 720x432 with 1 Axes>"
      ]
     },
     "metadata": {
      "needs_background": "light"
     },
     "output_type": "display_data"
    }
   ],
   "source": [
    "attendance_with_rain = attendance_data_with_rain_data[attendance_data_with_rain_data[\"rain\"] == 0][\"attendance_percentage\"]\n",
    "attendance_without_rain = attendance_data_with_rain_data[attendance_data_with_rain_data[\"rain\"] > 0][\"attendance_percentage\"]\n",
    "\n",
    "data = [attendance_with_rain, attendance_without_rain]\n",
    "fig, ax = plt.subplots(figsize=(10,6))\n",
    "bp = ax.boxplot(data, 0, \"gD\", patch_artist=True, labels=[\"Rain\", \"No rain\"])\n",
    "\n",
    "for box in bp[\"boxes\"]:\n",
    "    box.set(color=\"burlywood\", linewidth=2)\n",
    "\n",
    "for median in bp[\"medians\"]:\n",
    "    median.set(color=\"green\", linewidth=2)\n",
    "\n",
    "plt.ylabel(\"Attendance percentage\")\n",
    "plt.title(\"Influence of rain on game attendance\")\n",
    "plt.show()"
   ]
  },
  {
   "cell_type": "code",
   "execution_count": 17,
   "metadata": {},
   "outputs": [
    {
     "data": {
      "text/html": [
       "<div>\n",
       "<style scoped>\n",
       "    .dataframe tbody tr th:only-of-type {\n",
       "        vertical-align: middle;\n",
       "    }\n",
       "\n",
       "    .dataframe tbody tr th {\n",
       "        vertical-align: top;\n",
       "    }\n",
       "\n",
       "    .dataframe thead th {\n",
       "        text-align: right;\n",
       "    }\n",
       "</style>\n",
       "<table border=\"1\" class=\"dataframe\">\n",
       "  <thead>\n",
       "    <tr style=\"text-align: right;\">\n",
       "      <th></th>\n",
       "      <th>p_value</th>\n",
       "      <th>t_value</th>\n",
       "    </tr>\n",
       "  </thead>\n",
       "  <tbody>\n",
       "    <tr>\n",
       "      <th>0</th>\n",
       "      <td>0.664563</td>\n",
       "      <td>-0.433763</td>\n",
       "    </tr>\n",
       "  </tbody>\n",
       "</table>\n",
       "</div>"
      ],
      "text/plain": [
       "    p_value   t_value\n",
       "0  0.664563 -0.433763"
      ]
     },
     "execution_count": 17,
     "metadata": {},
     "output_type": "execute_result"
    }
   ],
   "source": [
    "t, p = ttest_ind(attendance_with_rain, attendance_without_rain, equal_var=False)\n",
    "pd.DataFrame({\"t_value\": [t], \"p_value\": [p]})"
   ]
  }
 ],
 "metadata": {
  "kernelspec": {
   "display_name": "Python 3",
   "language": "python",
   "name": "python3"
  },
  "language_info": {
   "codemirror_mode": {
    "name": "ipython",
    "version": 3
   },
   "file_extension": ".py",
   "mimetype": "text/x-python",
   "name": "python",
   "nbconvert_exporter": "python",
   "pygments_lexer": "ipython3",
   "version": "3.5.5"
  }
 },
 "nbformat": 4,
 "nbformat_minor": 2
}
