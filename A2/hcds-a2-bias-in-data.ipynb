{
 "cells": [
  {
   "cell_type": "markdown",
   "metadata": {},
   "source": [
    "# Assignment 2: Bias in data\n",
    "### Data 512\n",
    "### Saturday, October 5\n",
    "### Tara Wilson"
   ]
  },
  {
   "cell_type": "markdown",
   "metadata": {},
   "source": [
    "-----------------"
   ]
  },
  {
   "cell_type": "markdown",
   "metadata": {},
   "source": [
    "## Setup"
   ]
  },
  {
   "cell_type": "markdown",
   "metadata": {},
   "source": [
    "This Jupyter Notebook is created using [Python version 3.7](https://www.python.org/downloads/release/python-370/)."
   ]
  },
  {
   "cell_type": "markdown",
   "metadata": {},
   "source": [
    "First, I will import the necessary libraries to run the code. The following libraries are used:\n",
    "\n",
    "[pandas](https://pandas.pydata.org/)    \n",
    "[json](https://docs.python.org/3/library/json.html)  \n",
    "[requests](https://realpython.com/python-requests/)  \n",
    "[logging](https://docs.python.org/3/library/logging.html)  \n",
    "[numpy](https://numpy.org/)  "
   ]
  },
  {
   "cell_type": "code",
   "execution_count": 75,
   "metadata": {},
   "outputs": [],
   "source": [
    "import pandas as pd\n",
    "import json\n",
    "import requests\n",
    "import logging\n",
    "import numpy as np"
   ]
  },
  {
   "cell_type": "markdown",
   "metadata": {},
   "source": [
    "I will set up a logging file to keep track of messages later in the file. I set the logging `level` to `INFO` since we want to track information and not error messages or other types of alerts. I set `format` to `%(message)s` so the message is printed out simply as a string. I set the `filename` to `bias_in_data_error_log.log` so the log will be saved with this title in the current working directory. Finally, I set the `filemode` to `w` for write permissions so that the file is re-written each time and not added on to since I do not need to keep historical logs."
   ]
  },
  {
   "cell_type": "code",
   "execution_count": 76,
   "metadata": {},
   "outputs": [],
   "source": [
    "logging.basicConfig(level=logging.INFO,\n",
    "                    format='%(message)s',\n",
    "                    filename='bias_in_data_error_log.log',\n",
    "                    filemode='w')"
   ]
  },
  {
   "cell_type": "markdown",
   "metadata": {},
   "source": [
    "---------------------"
   ]
  },
  {
   "cell_type": "markdown",
   "metadata": {},
   "source": [
    "## Data cleaning"
   ]
  },
  {
   "cell_type": "markdown",
   "metadata": {},
   "source": [
    "I will then read in the 2 source files from the `source_data` folder into pandas DataFrames using the `read_csv` function:\n",
    "* page_data.csv\n",
    "* WPDS_2018_data.csv"
   ]
  },
  {
   "cell_type": "code",
   "execution_count": 77,
   "metadata": {},
   "outputs": [],
   "source": [
    "page_data = pd.read_csv(\"source_data/page_data.csv\")\n",
    "population_data = pd.read_csv(\"source_data/WPDS_2018_data.csv\")"
   ]
  },
  {
   "cell_type": "markdown",
   "metadata": {},
   "source": [
    "I will then take a look to ensure the data files are read in properly.  "
   ]
  },
  {
   "cell_type": "code",
   "execution_count": 78,
   "metadata": {},
   "outputs": [
    {
     "name": "stdout",
     "output_type": "stream",
     "text": [
      "Page dataframe row count:  47197\n"
     ]
    }
   ],
   "source": [
    "print(\"Page dataframe row count: \", page_data.shape[0])"
   ]
  },
  {
   "cell_type": "markdown",
   "metadata": {},
   "source": [
    "I will also preview the dataset to ensure the columns are as we expect: \n",
    "* page (article names)\n",
    "* country\n",
    "* rev_id (revision ID for the article)"
   ]
  },
  {
   "cell_type": "code",
   "execution_count": 79,
   "metadata": {},
   "outputs": [
    {
     "data": {
      "text/html": [
       "<div>\n",
       "<style scoped>\n",
       "    .dataframe tbody tr th:only-of-type {\n",
       "        vertical-align: middle;\n",
       "    }\n",
       "\n",
       "    .dataframe tbody tr th {\n",
       "        vertical-align: top;\n",
       "    }\n",
       "\n",
       "    .dataframe thead th {\n",
       "        text-align: right;\n",
       "    }\n",
       "</style>\n",
       "<table border=\"1\" class=\"dataframe\">\n",
       "  <thead>\n",
       "    <tr style=\"text-align: right;\">\n",
       "      <th></th>\n",
       "      <th>page</th>\n",
       "      <th>country</th>\n",
       "      <th>rev_id</th>\n",
       "    </tr>\n",
       "  </thead>\n",
       "  <tbody>\n",
       "    <tr>\n",
       "      <th>0</th>\n",
       "      <td>Template:ZambiaProvincialMinisters</td>\n",
       "      <td>Zambia</td>\n",
       "      <td>235107991</td>\n",
       "    </tr>\n",
       "    <tr>\n",
       "      <th>1</th>\n",
       "      <td>Bir I of Kanem</td>\n",
       "      <td>Chad</td>\n",
       "      <td>355319463</td>\n",
       "    </tr>\n",
       "    <tr>\n",
       "      <th>2</th>\n",
       "      <td>Template:Zimbabwe-politician-stub</td>\n",
       "      <td>Zimbabwe</td>\n",
       "      <td>391862046</td>\n",
       "    </tr>\n",
       "    <tr>\n",
       "      <th>3</th>\n",
       "      <td>Template:Uganda-politician-stub</td>\n",
       "      <td>Uganda</td>\n",
       "      <td>391862070</td>\n",
       "    </tr>\n",
       "    <tr>\n",
       "      <th>4</th>\n",
       "      <td>Template:Namibia-politician-stub</td>\n",
       "      <td>Namibia</td>\n",
       "      <td>391862409</td>\n",
       "    </tr>\n",
       "  </tbody>\n",
       "</table>\n",
       "</div>"
      ],
      "text/plain": [
       "                                 page   country     rev_id\n",
       "0  Template:ZambiaProvincialMinisters    Zambia  235107991\n",
       "1                      Bir I of Kanem      Chad  355319463\n",
       "2   Template:Zimbabwe-politician-stub  Zimbabwe  391862046\n",
       "3     Template:Uganda-politician-stub    Uganda  391862070\n",
       "4    Template:Namibia-politician-stub   Namibia  391862409"
      ]
     },
     "execution_count": 79,
     "metadata": {},
     "output_type": "execute_result"
    }
   ],
   "source": [
    "page_data.head()"
   ]
  },
  {
   "cell_type": "code",
   "execution_count": 80,
   "metadata": {},
   "outputs": [
    {
     "name": "stdout",
     "output_type": "stream",
     "text": [
      "Population dataframe row count:  207\n"
     ]
    }
   ],
   "source": [
    "print(\"Population dataframe row count: \", population_data.shape[0])"
   ]
  },
  {
   "cell_type": "markdown",
   "metadata": {},
   "source": [
    "I will also preview the population dataset to ensure the columns are as follows: \n",
    "* Geogrpahy\n",
    "* Population mid-2018 (millions)"
   ]
  },
  {
   "cell_type": "code",
   "execution_count": 81,
   "metadata": {},
   "outputs": [
    {
     "data": {
      "text/html": [
       "<div>\n",
       "<style scoped>\n",
       "    .dataframe tbody tr th:only-of-type {\n",
       "        vertical-align: middle;\n",
       "    }\n",
       "\n",
       "    .dataframe tbody tr th {\n",
       "        vertical-align: top;\n",
       "    }\n",
       "\n",
       "    .dataframe thead th {\n",
       "        text-align: right;\n",
       "    }\n",
       "</style>\n",
       "<table border=\"1\" class=\"dataframe\">\n",
       "  <thead>\n",
       "    <tr style=\"text-align: right;\">\n",
       "      <th></th>\n",
       "      <th>Geography</th>\n",
       "      <th>Population mid-2018 (millions)</th>\n",
       "    </tr>\n",
       "  </thead>\n",
       "  <tbody>\n",
       "    <tr>\n",
       "      <th>0</th>\n",
       "      <td>AFRICA</td>\n",
       "      <td>1,284</td>\n",
       "    </tr>\n",
       "    <tr>\n",
       "      <th>1</th>\n",
       "      <td>Algeria</td>\n",
       "      <td>42.7</td>\n",
       "    </tr>\n",
       "    <tr>\n",
       "      <th>2</th>\n",
       "      <td>Egypt</td>\n",
       "      <td>97</td>\n",
       "    </tr>\n",
       "    <tr>\n",
       "      <th>3</th>\n",
       "      <td>Libya</td>\n",
       "      <td>6.5</td>\n",
       "    </tr>\n",
       "    <tr>\n",
       "      <th>4</th>\n",
       "      <td>Morocco</td>\n",
       "      <td>35.2</td>\n",
       "    </tr>\n",
       "  </tbody>\n",
       "</table>\n",
       "</div>"
      ],
      "text/plain": [
       "  Geography Population mid-2018 (millions)\n",
       "0    AFRICA                          1,284\n",
       "1   Algeria                           42.7\n",
       "2     Egypt                             97\n",
       "3     Libya                            6.5\n",
       "4   Morocco                           35.2"
      ]
     },
     "execution_count": 81,
     "metadata": {},
     "output_type": "execute_result"
    }
   ],
   "source": [
    "population_data.head()"
   ]
  },
  {
   "cell_type": "markdown",
   "metadata": {},
   "source": [
    "Rows with page names that begin with the string \"Template\" need to be filtered out of `page_data` as these are not Wikipedia articles and we do not want to include them in the anlysis. To do so we will use Python's `~` operator described in detail [here](https://stackoverflow.com/questions/8305199/the-tilde-operator-in-python)."
   ]
  },
  {
   "cell_type": "code",
   "execution_count": 82,
   "metadata": {},
   "outputs": [],
   "source": [
    "page_data = page_data[~page_data[\"page\"].str.startswith(\"Template\")]"
   ]
  },
  {
   "cell_type": "markdown",
   "metadata": {},
   "source": [
    "DESCRIBE THIS!!!!!!!!!!!1 "
   ]
  },
  {
   "cell_type": "code",
   "execution_count": 87,
   "metadata": {},
   "outputs": [
    {
     "data": {
      "text/html": [
       "<div>\n",
       "<style scoped>\n",
       "    .dataframe tbody tr th:only-of-type {\n",
       "        vertical-align: middle;\n",
       "    }\n",
       "\n",
       "    .dataframe tbody tr th {\n",
       "        vertical-align: top;\n",
       "    }\n",
       "\n",
       "    .dataframe thead th {\n",
       "        text-align: right;\n",
       "    }\n",
       "</style>\n",
       "<table border=\"1\" class=\"dataframe\">\n",
       "  <thead>\n",
       "    <tr style=\"text-align: right;\">\n",
       "      <th></th>\n",
       "      <th>region</th>\n",
       "      <th>population</th>\n",
       "    </tr>\n",
       "  </thead>\n",
       "  <tbody>\n",
       "    <tr>\n",
       "      <th>0</th>\n",
       "      <td>AFRICA</td>\n",
       "      <td>1,284</td>\n",
       "    </tr>\n",
       "    <tr>\n",
       "      <th>1</th>\n",
       "      <td>NORTHERN AMERICA</td>\n",
       "      <td>365</td>\n",
       "    </tr>\n",
       "    <tr>\n",
       "      <th>2</th>\n",
       "      <td>LATIN AMERICA AND THE CARIBBEAN</td>\n",
       "      <td>649</td>\n",
       "    </tr>\n",
       "    <tr>\n",
       "      <th>3</th>\n",
       "      <td>ASIA</td>\n",
       "      <td>4,536</td>\n",
       "    </tr>\n",
       "    <tr>\n",
       "      <th>4</th>\n",
       "      <td>EUROPE</td>\n",
       "      <td>746</td>\n",
       "    </tr>\n",
       "    <tr>\n",
       "      <th>5</th>\n",
       "      <td>OCEANIA</td>\n",
       "      <td>41</td>\n",
       "    </tr>\n",
       "  </tbody>\n",
       "</table>\n",
       "</div>"
      ],
      "text/plain": [
       "                            region population\n",
       "0                           AFRICA      1,284\n",
       "1                 NORTHERN AMERICA        365\n",
       "2  LATIN AMERICA AND THE CARIBBEAN        649\n",
       "3                             ASIA      4,536\n",
       "4                           EUROPE        746\n",
       "5                          OCEANIA         41"
      ]
     },
     "execution_count": 87,
     "metadata": {},
     "output_type": "execute_result"
    }
   ],
   "source": [
    "region = \"\"\n",
    "regions = []\n",
    "population_for_regions = pd.DataFrame()\n",
    "region_pop = []\n",
    "region_name= []\n",
    "\n",
    "for index, row in population_data.iterrows():\n",
    "    if row[\"Geography\"].isupper():\n",
    "        region = row[\"Geography\"]\n",
    "        region_pop.append(row[\"Population mid-2018 (millions)\"])\n",
    "        region_name.append(region)\n",
    "    regions.append(region)\n",
    "\n",
    "population_data[\"regions\"] = regions\n",
    "\n",
    "population_for_regions[\"region\"] = region_name\n",
    "population_for_regions[\"population\"] = region_pop"
   ]
  },
  {
   "cell_type": "markdown",
   "metadata": {},
   "source": [
    "-----------------"
   ]
  },
  {
   "cell_type": "markdown",
   "metadata": {},
   "source": [
    "## Data gathering"
   ]
  },
  {
   "cell_type": "markdown",
   "metadata": {},
   "source": [
    "In this next step I will gather the quality data for each of the Wikipedia articles included in `page_data`. This data is sourced from the Objective Revision Evaluation Service [(ORES)](https://www.mediawiki.org/wiki/ORES) which provides a predicted label to represent the quality of the article. The available labels are:\n",
    "\n",
    "1. FA (Featured article)\n",
    "2. GA (Good article)\n",
    "3. B (B-class article)\n",
    "4. C (C-class article)\n",
    "5. Start (Start-class article)\n",
    "6. Stub (Stub-class article)\n",
    "\n",
    "where 1 is the highest quality and 6 is the lowest quality classification.\n",
    "\n",
    "I was unable to `pip install ores` so I am using the ORES API service to get the article quality predictions. The following code writes a function to and makes requests to the REST API endpoint: `https://ores.wikimedia.org/v3/scores/{project}/?models={model}&revids={revids}`. The API requires the following parameters:\n",
    "\n",
    "| parameter | value |\n",
    "| ---------|:-----:|\n",
    "|*project*|`enwiki`|\n",
    "|*model*|`wp10`|\n",
    "|*revids*|List of revision IDs, from `page_data`|\n",
    "\n",
    "\n",
    "The resulting API response will look something like:\n",
    "```json\n",
    "{'articlequality': \n",
    "    {'score': \n",
    "        {'prediction': 'B', \n",
    "        'probability': \n",
    "            {'GA': 0.005565225912988614, \n",
    "             'Stub': 0.285072978841463, \n",
    "             'C': 0.1237249061020009, \n",
    "             'B': 0.2910788689339172, \n",
    "             'Start': 0.2859984921969326, \n",
    "             'FA': 0.008559528012697881\n",
    "            }\n",
    "        }\n",
    "    }\n",
    "}\n",
    "```\n",
    "\n",
    "The following function is adapted from [this example](https://github.com/Ironholds/data-512-a2/blob/master/hcds-a2-bias_demo.ipynb). "
   ]
  },
  {
   "cell_type": "code",
   "execution_count": 7,
   "metadata": {},
   "outputs": [],
   "source": [
    "def get_ores_data(revision_ids):\n",
    "    \"\"\"\n",
    "    This function makes a request to the ORES API Endpoint. \n",
    "    Inputs:\n",
    "        - revision_ids: A list of revision IDs for Wikipedia articles\n",
    "    Outputs:\n",
    "        - A JSON object with the predicted quality for all revision IDs\n",
    "    \"\"\"\n",
    "    headers = {'User-Agent' : 'https://github.com/TaraWilson17', 'From' : 'wwtara@uw.edu'}\n",
    "    \n",
    "    endpoint = 'https://ores.wikimedia.org/v3/scores/{project}/?models={model}&revids={revids}'\n",
    "    \n",
    "    params = {'project' : 'enwiki',\n",
    "              'model'   : 'wp10',\n",
    "              'revids'  : '|'.join(str(x) for x in revision_ids)\n",
    "              }\n",
    "    api_call = requests.get(endpoint.format(**params))\n",
    "    response = api_call.json()\n",
    "    return response"
   ]
  },
  {
   "cell_type": "markdown",
   "metadata": {},
   "source": []
  },
  {
   "cell_type": "code",
   "execution_count": 9,
   "metadata": {},
   "outputs": [],
   "source": [
    "revision_id = []\n",
    "article_quality = []\n",
    "\n",
    "page_data[\"rev_id\"] = page_data[\"rev_id\"].astype(np.int64)\n",
    "\n",
    "for i in range(0, page_data.shape[0], 50):\n",
    "    ores_responses = get_ores_data(np.array(page_data[\"rev_id\"].iloc[i:i + 50,]))\n",
    "    for article in ores_responses[\"enwiki\"][\"scores\"]:\n",
    "        try:\n",
    "            article_quality.append(ores_responses[\"enwiki\"][\"scores\"][article][\"wp10\"][\"score\"][\"prediction\"])\n",
    "        except:\n",
    "            logging.info(\"Unable to get a ORES response for revision id: %s\", article)\n",
    "        else:\n",
    "            revision_id.append(article)"
   ]
  },
  {
   "cell_type": "markdown",
   "metadata": {},
   "source": []
  },
  {
   "cell_type": "code",
   "execution_count": 19,
   "metadata": {},
   "outputs": [
    {
     "data": {
      "text/html": [
       "<div>\n",
       "<style scoped>\n",
       "    .dataframe tbody tr th:only-of-type {\n",
       "        vertical-align: middle;\n",
       "    }\n",
       "\n",
       "    .dataframe tbody tr th {\n",
       "        vertical-align: top;\n",
       "    }\n",
       "\n",
       "    .dataframe thead th {\n",
       "        text-align: right;\n",
       "    }\n",
       "</style>\n",
       "<table border=\"1\" class=\"dataframe\">\n",
       "  <thead>\n",
       "    <tr style=\"text-align: right;\">\n",
       "      <th></th>\n",
       "      <th>revision_id</th>\n",
       "      <th>article_quality</th>\n",
       "    </tr>\n",
       "  </thead>\n",
       "  <tbody>\n",
       "    <tr>\n",
       "      <th>0</th>\n",
       "      <td>355319463</td>\n",
       "      <td>Stub</td>\n",
       "    </tr>\n",
       "    <tr>\n",
       "      <th>1</th>\n",
       "      <td>393276188</td>\n",
       "      <td>Stub</td>\n",
       "    </tr>\n",
       "    <tr>\n",
       "      <th>2</th>\n",
       "      <td>393822005</td>\n",
       "      <td>Stub</td>\n",
       "    </tr>\n",
       "    <tr>\n",
       "      <th>3</th>\n",
       "      <td>395521877</td>\n",
       "      <td>Stub</td>\n",
       "    </tr>\n",
       "    <tr>\n",
       "      <th>4</th>\n",
       "      <td>395526568</td>\n",
       "      <td>Stub</td>\n",
       "    </tr>\n",
       "  </tbody>\n",
       "</table>\n",
       "</div>"
      ],
      "text/plain": [
       "  revision_id article_quality\n",
       "0   355319463            Stub\n",
       "1   393276188            Stub\n",
       "2   393822005            Stub\n",
       "3   395521877            Stub\n",
       "4   395526568            Stub"
      ]
     },
     "execution_count": 19,
     "metadata": {},
     "output_type": "execute_result"
    }
   ],
   "source": [
    "article_data = pd.DataFrame()\n",
    "article_data[\"revision_id\"] = revision_id\n",
    "article_data[\"article_quality\"] = article_quality"
   ]
  },
  {
   "cell_type": "markdown",
   "metadata": {},
   "source": []
  },
  {
   "cell_type": "code",
   "execution_count": 20,
   "metadata": {},
   "outputs": [
    {
     "data": {
      "text/html": [
       "<div>\n",
       "<style scoped>\n",
       "    .dataframe tbody tr th:only-of-type {\n",
       "        vertical-align: middle;\n",
       "    }\n",
       "\n",
       "    .dataframe tbody tr th {\n",
       "        vertical-align: top;\n",
       "    }\n",
       "\n",
       "    .dataframe thead th {\n",
       "        text-align: right;\n",
       "    }\n",
       "</style>\n",
       "<table border=\"1\" class=\"dataframe\">\n",
       "  <thead>\n",
       "    <tr style=\"text-align: right;\">\n",
       "      <th></th>\n",
       "      <th>revision_id</th>\n",
       "      <th>article_quality</th>\n",
       "      <th>page</th>\n",
       "      <th>country</th>\n",
       "    </tr>\n",
       "  </thead>\n",
       "  <tbody>\n",
       "    <tr>\n",
       "      <th>0</th>\n",
       "      <td>355319463</td>\n",
       "      <td>Stub</td>\n",
       "      <td>Bir I of Kanem</td>\n",
       "      <td>Chad</td>\n",
       "    </tr>\n",
       "    <tr>\n",
       "      <th>1</th>\n",
       "      <td>393276188</td>\n",
       "      <td>Stub</td>\n",
       "      <td>Information Minister of the Palestinian Nation...</td>\n",
       "      <td>Palestinian Territory</td>\n",
       "    </tr>\n",
       "    <tr>\n",
       "      <th>2</th>\n",
       "      <td>393822005</td>\n",
       "      <td>Stub</td>\n",
       "      <td>Yos Por</td>\n",
       "      <td>Cambodia</td>\n",
       "    </tr>\n",
       "    <tr>\n",
       "      <th>3</th>\n",
       "      <td>395521877</td>\n",
       "      <td>Stub</td>\n",
       "      <td>Julius Gregr</td>\n",
       "      <td>Czech Republic</td>\n",
       "    </tr>\n",
       "    <tr>\n",
       "      <th>4</th>\n",
       "      <td>395526568</td>\n",
       "      <td>Stub</td>\n",
       "      <td>Edvard Gregr</td>\n",
       "      <td>Czech Republic</td>\n",
       "    </tr>\n",
       "  </tbody>\n",
       "</table>\n",
       "</div>"
      ],
      "text/plain": [
       "   revision_id article_quality  \\\n",
       "0    355319463            Stub   \n",
       "1    393276188            Stub   \n",
       "2    393822005            Stub   \n",
       "3    395521877            Stub   \n",
       "4    395526568            Stub   \n",
       "\n",
       "                                                page                country  \n",
       "0                                     Bir I of Kanem                   Chad  \n",
       "1  Information Minister of the Palestinian Nation...  Palestinian Territory  \n",
       "2                                            Yos Por               Cambodia  \n",
       "3                                       Julius Gregr         Czech Republic  \n",
       "4                                       Edvard Gregr         Czech Republic  "
      ]
     },
     "execution_count": 20,
     "metadata": {},
     "output_type": "execute_result"
    }
   ],
   "source": [
    "article_data[\"revision_id\"] = article_data[\"revision_id\"].astype(str).astype(int)\n",
    "all_article_data = pd.merge(article_data, page_data, left_on=\"revision_id\", right_on=\"rev_id\")\n",
    "all_article_data = all_article_data.drop(columns=[\"rev_id\"])"
   ]
  },
  {
   "cell_type": "markdown",
   "metadata": {},
   "source": []
  },
  {
   "cell_type": "code",
   "execution_count": 21,
   "metadata": {},
   "outputs": [
    {
     "data": {
      "text/html": [
       "<div>\n",
       "<style scoped>\n",
       "    .dataframe tbody tr th:only-of-type {\n",
       "        vertical-align: middle;\n",
       "    }\n",
       "\n",
       "    .dataframe tbody tr th {\n",
       "        vertical-align: top;\n",
       "    }\n",
       "\n",
       "    .dataframe thead th {\n",
       "        text-align: right;\n",
       "    }\n",
       "</style>\n",
       "<table border=\"1\" class=\"dataframe\">\n",
       "  <thead>\n",
       "    <tr style=\"text-align: right;\">\n",
       "      <th></th>\n",
       "      <th>revision_id</th>\n",
       "      <th>article_quality</th>\n",
       "      <th>page</th>\n",
       "      <th>country</th>\n",
       "      <th>population</th>\n",
       "    </tr>\n",
       "  </thead>\n",
       "  <tbody>\n",
       "    <tr>\n",
       "      <th>0</th>\n",
       "      <td>355319463</td>\n",
       "      <td>Stub</td>\n",
       "      <td>Bir I of Kanem</td>\n",
       "      <td>Chad</td>\n",
       "      <td>15.4</td>\n",
       "    </tr>\n",
       "    <tr>\n",
       "      <th>1</th>\n",
       "      <td>498683267</td>\n",
       "      <td>Stub</td>\n",
       "      <td>Abdullah II of Kanem</td>\n",
       "      <td>Chad</td>\n",
       "      <td>15.4</td>\n",
       "    </tr>\n",
       "    <tr>\n",
       "      <th>2</th>\n",
       "      <td>565745353</td>\n",
       "      <td>Stub</td>\n",
       "      <td>Salmama II of Kanem</td>\n",
       "      <td>Chad</td>\n",
       "      <td>15.4</td>\n",
       "    </tr>\n",
       "    <tr>\n",
       "      <th>3</th>\n",
       "      <td>565745365</td>\n",
       "      <td>Stub</td>\n",
       "      <td>Kuri I of Kanem</td>\n",
       "      <td>Chad</td>\n",
       "      <td>15.4</td>\n",
       "    </tr>\n",
       "    <tr>\n",
       "      <th>4</th>\n",
       "      <td>565745375</td>\n",
       "      <td>Stub</td>\n",
       "      <td>Mohammed I of Kanem</td>\n",
       "      <td>Chad</td>\n",
       "      <td>15.4</td>\n",
       "    </tr>\n",
       "  </tbody>\n",
       "</table>\n",
       "</div>"
      ],
      "text/plain": [
       "   revision_id article_quality                  page country population\n",
       "0    355319463            Stub        Bir I of Kanem    Chad       15.4\n",
       "1    498683267            Stub  Abdullah II of Kanem    Chad       15.4\n",
       "2    565745353            Stub   Salmama II of Kanem    Chad       15.4\n",
       "3    565745365            Stub       Kuri I of Kanem    Chad       15.4\n",
       "4    565745375            Stub   Mohammed I of Kanem    Chad       15.4"
      ]
     },
     "execution_count": 21,
     "metadata": {},
     "output_type": "execute_result"
    }
   ],
   "source": [
    "all_data = pd.merge(all_article_data, population_data, left_on=\"country\", right_on=\"Geography\")\n",
    "all_data = all_data.drop(columns=[\"Geography\"])\n",
    "all_data = all_data.rename(columns={\"Population mid-2018 (millions)\": \"population\"})\n",
    "all_data.head()"
   ]
  },
  {
   "cell_type": "markdown",
   "metadata": {},
   "source": []
  },
  {
   "cell_type": "code",
   "execution_count": 22,
   "metadata": {},
   "outputs": [],
   "source": [
    "all_data.to_csv(\"wp_wpds_politicians_by_country.csv\", sep=\",\", columns=[\"country\", \"article_name\", \"revision_id\", \"article_quality\", \"population\"])"
   ]
  },
  {
   "cell_type": "markdown",
   "metadata": {},
   "source": [
    "-----------------------"
   ]
  },
  {
   "cell_type": "markdown",
   "metadata": {},
   "source": [
    "## Data analysis"
   ]
  },
  {
   "cell_type": "markdown",
   "metadata": {},
   "source": [
    "The next step is to complete some analysis on the resulting dataset. This will allow us to derive some metrics to generate some summary statistics for different countries.\n",
    "\n",
    "??"
   ]
  },
  {
   "cell_type": "code",
   "execution_count": 27,
   "metadata": {},
   "outputs": [
    {
     "data": {
      "text/html": [
       "<div>\n",
       "<style scoped>\n",
       "    .dataframe tbody tr th:only-of-type {\n",
       "        vertical-align: middle;\n",
       "    }\n",
       "\n",
       "    .dataframe tbody tr th {\n",
       "        vertical-align: top;\n",
       "    }\n",
       "\n",
       "    .dataframe thead th {\n",
       "        text-align: right;\n",
       "    }\n",
       "</style>\n",
       "<table border=\"1\" class=\"dataframe\">\n",
       "  <thead>\n",
       "    <tr style=\"text-align: right;\">\n",
       "      <th></th>\n",
       "      <th>country</th>\n",
       "      <th>num_articles</th>\n",
       "      <th>population</th>\n",
       "      <th>num_high_quality_articles</th>\n",
       "    </tr>\n",
       "  </thead>\n",
       "  <tbody>\n",
       "    <tr>\n",
       "      <th>0</th>\n",
       "      <td>Chad</td>\n",
       "      <td>97</td>\n",
       "      <td>15.4</td>\n",
       "      <td>2</td>\n",
       "    </tr>\n",
       "    <tr>\n",
       "      <th>1</th>\n",
       "      <td>Cambodia</td>\n",
       "      <td>213</td>\n",
       "      <td>16</td>\n",
       "      <td>4</td>\n",
       "    </tr>\n",
       "    <tr>\n",
       "      <th>2</th>\n",
       "      <td>Canada</td>\n",
       "      <td>843</td>\n",
       "      <td>37.2</td>\n",
       "      <td>22</td>\n",
       "    </tr>\n",
       "    <tr>\n",
       "      <th>3</th>\n",
       "      <td>Egypt</td>\n",
       "      <td>235</td>\n",
       "      <td>97</td>\n",
       "      <td>9</td>\n",
       "    </tr>\n",
       "    <tr>\n",
       "      <th>4</th>\n",
       "      <td>Pakistan</td>\n",
       "      <td>1023</td>\n",
       "      <td>200.6</td>\n",
       "      <td>19</td>\n",
       "    </tr>\n",
       "  </tbody>\n",
       "</table>\n",
       "</div>"
      ],
      "text/plain": [
       "    country  num_articles population  num_high_quality_articles\n",
       "0      Chad            97       15.4                          2\n",
       "1  Cambodia           213         16                          4\n",
       "2    Canada           843       37.2                         22\n",
       "3     Egypt           235         97                          9\n",
       "4  Pakistan          1023      200.6                         19"
      ]
     },
     "execution_count": 27,
     "metadata": {},
     "output_type": "execute_result"
    }
   ],
   "source": [
    "article_stats = pd.DataFrame()\n",
    "country_list = []\n",
    "counts = []\n",
    "populations= []\n",
    "high_quality_counts = []\n",
    "\n",
    "countries = all_data[\"country\"].unique()\n",
    "for country in countries:\n",
    "    country_list.append(country)\n",
    "    articles_from_country = all_data[all_data[\"country\"] == country]\n",
    "    counts.append(len(articles_from_country))\n",
    "    count = 0\n",
    "    for index, row in articles_from_country.iterrows():\n",
    "        # \"FA\" and \"GA\" are considered 'high quality' predictions\n",
    "        if row[\"article_quality\"] == \"FA\" or row[\"article_quality\"] == \"GA\":\n",
    "            count += 1\n",
    "    high_quality_counts.append(count)\n",
    "    populations.append(row[\"population\"])\n",
    "    \n",
    "article_stats[\"country\"] = country_list\n",
    "article_stats[\"num_articles\"] = counts\n",
    "article_stats[\"population\"] = populations\n",
    "article_stats[\"num_high_quality_articles\"] = high_quality_counts\n",
    "article_stats.head()"
   ]
  },
  {
   "cell_type": "markdown",
   "metadata": {},
   "source": []
  },
  {
   "cell_type": "code",
   "execution_count": 28,
   "metadata": {},
   "outputs": [
    {
     "data": {
      "text/html": [
       "<div>\n",
       "<style scoped>\n",
       "    .dataframe tbody tr th:only-of-type {\n",
       "        vertical-align: middle;\n",
       "    }\n",
       "\n",
       "    .dataframe tbody tr th {\n",
       "        vertical-align: top;\n",
       "    }\n",
       "\n",
       "    .dataframe thead th {\n",
       "        text-align: right;\n",
       "    }\n",
       "</style>\n",
       "<table border=\"1\" class=\"dataframe\">\n",
       "  <thead>\n",
       "    <tr style=\"text-align: right;\">\n",
       "      <th></th>\n",
       "      <th>country</th>\n",
       "      <th>num_articles</th>\n",
       "      <th>population</th>\n",
       "      <th>num_high_quality_articles</th>\n",
       "    </tr>\n",
       "  </thead>\n",
       "  <tbody>\n",
       "    <tr>\n",
       "      <th>0</th>\n",
       "      <td>Chad</td>\n",
       "      <td>97</td>\n",
       "      <td>15400000.0</td>\n",
       "      <td>2</td>\n",
       "    </tr>\n",
       "    <tr>\n",
       "      <th>1</th>\n",
       "      <td>Cambodia</td>\n",
       "      <td>213</td>\n",
       "      <td>16000000.0</td>\n",
       "      <td>4</td>\n",
       "    </tr>\n",
       "    <tr>\n",
       "      <th>2</th>\n",
       "      <td>Canada</td>\n",
       "      <td>843</td>\n",
       "      <td>37200000.0</td>\n",
       "      <td>22</td>\n",
       "    </tr>\n",
       "    <tr>\n",
       "      <th>3</th>\n",
       "      <td>Egypt</td>\n",
       "      <td>235</td>\n",
       "      <td>97000000.0</td>\n",
       "      <td>9</td>\n",
       "    </tr>\n",
       "    <tr>\n",
       "      <th>4</th>\n",
       "      <td>Pakistan</td>\n",
       "      <td>1023</td>\n",
       "      <td>200600000.0</td>\n",
       "      <td>19</td>\n",
       "    </tr>\n",
       "  </tbody>\n",
       "</table>\n",
       "</div>"
      ],
      "text/plain": [
       "    country  num_articles   population  num_high_quality_articles\n",
       "0      Chad            97   15400000.0                          2\n",
       "1  Cambodia           213   16000000.0                          4\n",
       "2    Canada           843   37200000.0                         22\n",
       "3     Egypt           235   97000000.0                          9\n",
       "4  Pakistan          1023  200600000.0                         19"
      ]
     },
     "execution_count": 28,
     "metadata": {},
     "output_type": "execute_result"
    }
   ],
   "source": [
    "# populations in millions\n",
    "article_stats[\"population\"] = article_stats[\"population\"].str.replace(\",\",\"\")\n",
    "article_stats[\"population\"] = article_stats[\"population\"].astype(float) * 1000000\n",
    "article_stats.head()"
   ]
  },
  {
   "cell_type": "markdown",
   "metadata": {},
   "source": []
  },
  {
   "cell_type": "code",
   "execution_count": 49,
   "metadata": {},
   "outputs": [
    {
     "data": {
      "text/html": [
       "<div>\n",
       "<style scoped>\n",
       "    .dataframe tbody tr th:only-of-type {\n",
       "        vertical-align: middle;\n",
       "    }\n",
       "\n",
       "    .dataframe tbody tr th {\n",
       "        vertical-align: top;\n",
       "    }\n",
       "\n",
       "    .dataframe thead th {\n",
       "        text-align: right;\n",
       "    }\n",
       "</style>\n",
       "<table border=\"1\" class=\"dataframe\">\n",
       "  <thead>\n",
       "    <tr style=\"text-align: right;\">\n",
       "      <th></th>\n",
       "      <th>country</th>\n",
       "      <th>num_articles</th>\n",
       "      <th>population</th>\n",
       "      <th>num_high_quality_articles</th>\n",
       "      <th>articles_per_population</th>\n",
       "      <th>quality_articles_per_population</th>\n",
       "      <th>quality_articles_per_articles</th>\n",
       "    </tr>\n",
       "  </thead>\n",
       "  <tbody>\n",
       "    <tr>\n",
       "      <th>0</th>\n",
       "      <td>Chad</td>\n",
       "      <td>97</td>\n",
       "      <td>15400000.0</td>\n",
       "      <td>2</td>\n",
       "      <td>0.000006</td>\n",
       "      <td>1.298701e-07</td>\n",
       "      <td>0.020619</td>\n",
       "    </tr>\n",
       "    <tr>\n",
       "      <th>1</th>\n",
       "      <td>Cambodia</td>\n",
       "      <td>213</td>\n",
       "      <td>16000000.0</td>\n",
       "      <td>4</td>\n",
       "      <td>0.000013</td>\n",
       "      <td>2.500000e-07</td>\n",
       "      <td>0.018779</td>\n",
       "    </tr>\n",
       "    <tr>\n",
       "      <th>2</th>\n",
       "      <td>Canada</td>\n",
       "      <td>843</td>\n",
       "      <td>37200000.0</td>\n",
       "      <td>22</td>\n",
       "      <td>0.000023</td>\n",
       "      <td>5.913978e-07</td>\n",
       "      <td>0.026097</td>\n",
       "    </tr>\n",
       "    <tr>\n",
       "      <th>3</th>\n",
       "      <td>Egypt</td>\n",
       "      <td>235</td>\n",
       "      <td>97000000.0</td>\n",
       "      <td>9</td>\n",
       "      <td>0.000002</td>\n",
       "      <td>9.278351e-08</td>\n",
       "      <td>0.038298</td>\n",
       "    </tr>\n",
       "    <tr>\n",
       "      <th>4</th>\n",
       "      <td>Pakistan</td>\n",
       "      <td>1023</td>\n",
       "      <td>200600000.0</td>\n",
       "      <td>19</td>\n",
       "      <td>0.000005</td>\n",
       "      <td>9.471585e-08</td>\n",
       "      <td>0.018573</td>\n",
       "    </tr>\n",
       "  </tbody>\n",
       "</table>\n",
       "</div>"
      ],
      "text/plain": [
       "    country  num_articles   population  num_high_quality_articles  \\\n",
       "0      Chad            97   15400000.0                          2   \n",
       "1  Cambodia           213   16000000.0                          4   \n",
       "2    Canada           843   37200000.0                         22   \n",
       "3     Egypt           235   97000000.0                          9   \n",
       "4  Pakistan          1023  200600000.0                         19   \n",
       "\n",
       "   articles_per_population  quality_articles_per_population  \\\n",
       "0                 0.000006                     1.298701e-07   \n",
       "1                 0.000013                     2.500000e-07   \n",
       "2                 0.000023                     5.913978e-07   \n",
       "3                 0.000002                     9.278351e-08   \n",
       "4                 0.000005                     9.471585e-08   \n",
       "\n",
       "   quality_articles_per_articles  \n",
       "0                       0.020619  \n",
       "1                       0.018779  \n",
       "2                       0.026097  \n",
       "3                       0.038298  \n",
       "4                       0.018573  "
      ]
     },
     "execution_count": 49,
     "metadata": {},
     "output_type": "execute_result"
    }
   ],
   "source": [
    "article_stats[\"articles_per_population\"] = article_stats[\"num_articles\"] / article_stats[\"population\"]\n",
    "article_stats[\"quality_articles_per_articles\"] = article_stats[\"num_high_quality_articles\"] / article_stats[\"num_articles\"]\n",
    "article_stats.head()"
   ]
  },
  {
   "cell_type": "markdown",
   "metadata": {},
   "source": []
  },
  {
   "cell_type": "markdown",
   "metadata": {},
   "source": [
    "--------------------"
   ]
  },
  {
   "cell_type": "markdown",
   "metadata": {},
   "source": [
    "## Result tables"
   ]
  },
  {
   "cell_type": "markdown",
   "metadata": {},
   "source": [
    "### 1. Top 10 countries by coverage"
   ]
  },
  {
   "cell_type": "markdown",
   "metadata": {},
   "source": [
    "These are the 10 countries with the highest proportion of politician articles on Wikideia per the population."
   ]
  },
  {
   "cell_type": "code",
   "execution_count": 89,
   "metadata": {
    "scrolled": true
   },
   "outputs": [
    {
     "data": {
      "text/html": [
       "<div>\n",
       "<style scoped>\n",
       "    .dataframe tbody tr th:only-of-type {\n",
       "        vertical-align: middle;\n",
       "    }\n",
       "\n",
       "    .dataframe tbody tr th {\n",
       "        vertical-align: top;\n",
       "    }\n",
       "\n",
       "    .dataframe thead th {\n",
       "        text-align: right;\n",
       "    }\n",
       "</style>\n",
       "<table border=\"1\" class=\"dataframe\">\n",
       "  <thead>\n",
       "    <tr style=\"text-align: right;\">\n",
       "      <th></th>\n",
       "      <th>country</th>\n",
       "      <th>num_articles</th>\n",
       "      <th>population</th>\n",
       "      <th>articles_per_population</th>\n",
       "    </tr>\n",
       "  </thead>\n",
       "  <tbody>\n",
       "    <tr>\n",
       "      <th>98</th>\n",
       "      <td>Tuvalu</td>\n",
       "      <td>54</td>\n",
       "      <td>10000.0</td>\n",
       "      <td>0.005400</td>\n",
       "    </tr>\n",
       "    <tr>\n",
       "      <th>149</th>\n",
       "      <td>Nauru</td>\n",
       "      <td>52</td>\n",
       "      <td>10000.0</td>\n",
       "      <td>0.005200</td>\n",
       "    </tr>\n",
       "    <tr>\n",
       "      <th>39</th>\n",
       "      <td>San Marino</td>\n",
       "      <td>81</td>\n",
       "      <td>30000.0</td>\n",
       "      <td>0.002700</td>\n",
       "    </tr>\n",
       "    <tr>\n",
       "      <th>63</th>\n",
       "      <td>Monaco</td>\n",
       "      <td>40</td>\n",
       "      <td>40000.0</td>\n",
       "      <td>0.001000</td>\n",
       "    </tr>\n",
       "    <tr>\n",
       "      <th>97</th>\n",
       "      <td>Liechtenstein</td>\n",
       "      <td>28</td>\n",
       "      <td>40000.0</td>\n",
       "      <td>0.000700</td>\n",
       "    </tr>\n",
       "    <tr>\n",
       "      <th>86</th>\n",
       "      <td>Tonga</td>\n",
       "      <td>63</td>\n",
       "      <td>100000.0</td>\n",
       "      <td>0.000630</td>\n",
       "    </tr>\n",
       "    <tr>\n",
       "      <th>104</th>\n",
       "      <td>Marshall Islands</td>\n",
       "      <td>37</td>\n",
       "      <td>60000.0</td>\n",
       "      <td>0.000617</td>\n",
       "    </tr>\n",
       "    <tr>\n",
       "      <th>66</th>\n",
       "      <td>Iceland</td>\n",
       "      <td>201</td>\n",
       "      <td>400000.0</td>\n",
       "      <td>0.000503</td>\n",
       "    </tr>\n",
       "    <tr>\n",
       "      <th>166</th>\n",
       "      <td>Andorra</td>\n",
       "      <td>34</td>\n",
       "      <td>80000.0</td>\n",
       "      <td>0.000425</td>\n",
       "    </tr>\n",
       "    <tr>\n",
       "      <th>77</th>\n",
       "      <td>Grenada</td>\n",
       "      <td>36</td>\n",
       "      <td>100000.0</td>\n",
       "      <td>0.000360</td>\n",
       "    </tr>\n",
       "  </tbody>\n",
       "</table>\n",
       "</div>"
      ],
      "text/plain": [
       "              country  num_articles  population  articles_per_population\n",
       "98             Tuvalu            54     10000.0                 0.005400\n",
       "149             Nauru            52     10000.0                 0.005200\n",
       "39         San Marino            81     30000.0                 0.002700\n",
       "63             Monaco            40     40000.0                 0.001000\n",
       "97      Liechtenstein            28     40000.0                 0.000700\n",
       "86              Tonga            63    100000.0                 0.000630\n",
       "104  Marshall Islands            37     60000.0                 0.000617\n",
       "66            Iceland           201    400000.0                 0.000503\n",
       "166           Andorra            34     80000.0                 0.000425\n",
       "77            Grenada            36    100000.0                 0.000360"
      ]
     },
     "execution_count": 89,
     "metadata": {},
     "output_type": "execute_result"
    }
   ],
   "source": [
    "top_10_by_coverage = article_stats.nlargest(10, \"articles_per_population\")\n",
    "top_10_by_coverage[[\"country\", \"num_articles\", \"population\", \"articles_per_population\"]]"
   ]
  },
  {
   "cell_type": "markdown",
   "metadata": {},
   "source": [
    "### 2. Bottom 10 countries by coverage"
   ]
  },
  {
   "cell_type": "markdown",
   "metadata": {},
   "source": [
    "These are the 10 countries with the least amount of politician articles on Wikideia per the population."
   ]
  },
  {
   "cell_type": "code",
   "execution_count": 90,
   "metadata": {},
   "outputs": [
    {
     "data": {
      "text/html": [
       "<div>\n",
       "<style scoped>\n",
       "    .dataframe tbody tr th:only-of-type {\n",
       "        vertical-align: middle;\n",
       "    }\n",
       "\n",
       "    .dataframe tbody tr th {\n",
       "        vertical-align: top;\n",
       "    }\n",
       "\n",
       "    .dataframe thead th {\n",
       "        text-align: right;\n",
       "    }\n",
       "</style>\n",
       "<table border=\"1\" class=\"dataframe\">\n",
       "  <thead>\n",
       "    <tr style=\"text-align: right;\">\n",
       "      <th></th>\n",
       "      <th>country</th>\n",
       "      <th>num_articles</th>\n",
       "      <th>population</th>\n",
       "      <th>articles_per_population</th>\n",
       "    </tr>\n",
       "  </thead>\n",
       "  <tbody>\n",
       "    <tr>\n",
       "      <th>6</th>\n",
       "      <td>India</td>\n",
       "      <td>980</td>\n",
       "      <td>1.371300e+09</td>\n",
       "      <td>7.146503e-07</td>\n",
       "    </tr>\n",
       "    <tr>\n",
       "      <th>58</th>\n",
       "      <td>Indonesia</td>\n",
       "      <td>210</td>\n",
       "      <td>2.652000e+08</td>\n",
       "      <td>7.918552e-07</td>\n",
       "    </tr>\n",
       "    <tr>\n",
       "      <th>20</th>\n",
       "      <td>China</td>\n",
       "      <td>1130</td>\n",
       "      <td>1.393800e+09</td>\n",
       "      <td>8.107332e-07</td>\n",
       "    </tr>\n",
       "    <tr>\n",
       "      <th>150</th>\n",
       "      <td>Uzbekistan</td>\n",
       "      <td>28</td>\n",
       "      <td>3.290000e+07</td>\n",
       "      <td>8.510638e-07</td>\n",
       "    </tr>\n",
       "    <tr>\n",
       "      <th>106</th>\n",
       "      <td>Ethiopia</td>\n",
       "      <td>101</td>\n",
       "      <td>1.075000e+08</td>\n",
       "      <td>9.395349e-07</td>\n",
       "    </tr>\n",
       "    <tr>\n",
       "      <th>163</th>\n",
       "      <td>Korea, North</td>\n",
       "      <td>36</td>\n",
       "      <td>2.560000e+07</td>\n",
       "      <td>1.406250e-06</td>\n",
       "    </tr>\n",
       "    <tr>\n",
       "      <th>178</th>\n",
       "      <td>Zambia</td>\n",
       "      <td>25</td>\n",
       "      <td>1.770000e+07</td>\n",
       "      <td>1.412429e-06</td>\n",
       "    </tr>\n",
       "    <tr>\n",
       "      <th>126</th>\n",
       "      <td>Thailand</td>\n",
       "      <td>112</td>\n",
       "      <td>6.620000e+07</td>\n",
       "      <td>1.691843e-06</td>\n",
       "    </tr>\n",
       "    <tr>\n",
       "      <th>125</th>\n",
       "      <td>Mozambique</td>\n",
       "      <td>58</td>\n",
       "      <td>3.050000e+07</td>\n",
       "      <td>1.901639e-06</td>\n",
       "    </tr>\n",
       "    <tr>\n",
       "      <th>115</th>\n",
       "      <td>Bangladesh</td>\n",
       "      <td>319</td>\n",
       "      <td>1.664000e+08</td>\n",
       "      <td>1.917067e-06</td>\n",
       "    </tr>\n",
       "  </tbody>\n",
       "</table>\n",
       "</div>"
      ],
      "text/plain": [
       "          country  num_articles    population  articles_per_population\n",
       "6           India           980  1.371300e+09             7.146503e-07\n",
       "58      Indonesia           210  2.652000e+08             7.918552e-07\n",
       "20          China          1130  1.393800e+09             8.107332e-07\n",
       "150    Uzbekistan            28  3.290000e+07             8.510638e-07\n",
       "106      Ethiopia           101  1.075000e+08             9.395349e-07\n",
       "163  Korea, North            36  2.560000e+07             1.406250e-06\n",
       "178        Zambia            25  1.770000e+07             1.412429e-06\n",
       "126      Thailand           112  6.620000e+07             1.691843e-06\n",
       "125    Mozambique            58  3.050000e+07             1.901639e-06\n",
       "115    Bangladesh           319  1.664000e+08             1.917067e-06"
      ]
     },
     "execution_count": 90,
     "metadata": {},
     "output_type": "execute_result"
    }
   ],
   "source": [
    "bottom_10_by_coverage = article_stats.nsmallest(10, \"articles_per_population\")\n",
    "bottom_10_by_coverage[[\"country\", \"num_articles\", \"population\", \"articles_per_population\"]]"
   ]
  },
  {
   "cell_type": "code",
   "execution_count": null,
   "metadata": {},
   "outputs": [],
   "source": []
  },
  {
   "cell_type": "markdown",
   "metadata": {},
   "source": [
    "### 3. Top 10 countries by relative quality"
   ]
  },
  {
   "cell_type": "markdown",
   "metadata": {},
   "source": [
    "These are the 10 countries with the highest proportion of quality articles (`GA` or `FA` predictions from ORES) per number of politician articles on Wikipedia from that country."
   ]
  },
  {
   "cell_type": "code",
   "execution_count": 91,
   "metadata": {},
   "outputs": [
    {
     "data": {
      "text/html": [
       "<div>\n",
       "<style scoped>\n",
       "    .dataframe tbody tr th:only-of-type {\n",
       "        vertical-align: middle;\n",
       "    }\n",
       "\n",
       "    .dataframe tbody tr th {\n",
       "        vertical-align: top;\n",
       "    }\n",
       "\n",
       "    .dataframe thead th {\n",
       "        text-align: right;\n",
       "    }\n",
       "</style>\n",
       "<table border=\"1\" class=\"dataframe\">\n",
       "  <thead>\n",
       "    <tr style=\"text-align: right;\">\n",
       "      <th></th>\n",
       "      <th>country</th>\n",
       "      <th>num_high_quality_articles</th>\n",
       "      <th>num_articles</th>\n",
       "      <th>quality_articles_per_articles</th>\n",
       "    </tr>\n",
       "  </thead>\n",
       "  <tbody>\n",
       "    <tr>\n",
       "      <th>163</th>\n",
       "      <td>Korea, North</td>\n",
       "      <td>7</td>\n",
       "      <td>36</td>\n",
       "      <td>0.194444</td>\n",
       "    </tr>\n",
       "    <tr>\n",
       "      <th>169</th>\n",
       "      <td>Saudi Arabia</td>\n",
       "      <td>15</td>\n",
       "      <td>118</td>\n",
       "      <td>0.127119</td>\n",
       "    </tr>\n",
       "    <tr>\n",
       "      <th>138</th>\n",
       "      <td>Mauritania</td>\n",
       "      <td>6</td>\n",
       "      <td>48</td>\n",
       "      <td>0.125000</td>\n",
       "    </tr>\n",
       "    <tr>\n",
       "      <th>161</th>\n",
       "      <td>Central African Republic</td>\n",
       "      <td>8</td>\n",
       "      <td>66</td>\n",
       "      <td>0.121212</td>\n",
       "    </tr>\n",
       "    <tr>\n",
       "      <th>45</th>\n",
       "      <td>Romania</td>\n",
       "      <td>39</td>\n",
       "      <td>343</td>\n",
       "      <td>0.113703</td>\n",
       "    </tr>\n",
       "    <tr>\n",
       "      <th>98</th>\n",
       "      <td>Tuvalu</td>\n",
       "      <td>5</td>\n",
       "      <td>54</td>\n",
       "      <td>0.092593</td>\n",
       "    </tr>\n",
       "    <tr>\n",
       "      <th>124</th>\n",
       "      <td>Bhutan</td>\n",
       "      <td>3</td>\n",
       "      <td>33</td>\n",
       "      <td>0.090909</td>\n",
       "    </tr>\n",
       "    <tr>\n",
       "      <th>172</th>\n",
       "      <td>Dominica</td>\n",
       "      <td>1</td>\n",
       "      <td>12</td>\n",
       "      <td>0.083333</td>\n",
       "    </tr>\n",
       "    <tr>\n",
       "      <th>47</th>\n",
       "      <td>Syria</td>\n",
       "      <td>10</td>\n",
       "      <td>128</td>\n",
       "      <td>0.078125</td>\n",
       "    </tr>\n",
       "    <tr>\n",
       "      <th>44</th>\n",
       "      <td>Benin</td>\n",
       "      <td>7</td>\n",
       "      <td>91</td>\n",
       "      <td>0.076923</td>\n",
       "    </tr>\n",
       "  </tbody>\n",
       "</table>\n",
       "</div>"
      ],
      "text/plain": [
       "                      country  num_high_quality_articles  num_articles  \\\n",
       "163              Korea, North                          7            36   \n",
       "169              Saudi Arabia                         15           118   \n",
       "138                Mauritania                          6            48   \n",
       "161  Central African Republic                          8            66   \n",
       "45                    Romania                         39           343   \n",
       "98                     Tuvalu                          5            54   \n",
       "124                    Bhutan                          3            33   \n",
       "172                  Dominica                          1            12   \n",
       "47                      Syria                         10           128   \n",
       "44                      Benin                          7            91   \n",
       "\n",
       "     quality_articles_per_articles  \n",
       "163                       0.194444  \n",
       "169                       0.127119  \n",
       "138                       0.125000  \n",
       "161                       0.121212  \n",
       "45                        0.113703  \n",
       "98                        0.092593  \n",
       "124                       0.090909  \n",
       "172                       0.083333  \n",
       "47                        0.078125  \n",
       "44                        0.076923  "
      ]
     },
     "execution_count": 91,
     "metadata": {},
     "output_type": "execute_result"
    }
   ],
   "source": [
    "top_10_by_quality = article_stats.nlargest(10, \"quality_articles_per_articles\")\n",
    "top_10_by_quality[[\"country\", \"num_high_quality_articles\", \"num_articles\", \"quality_articles_per_articles\"]]"
   ]
  },
  {
   "cell_type": "markdown",
   "metadata": {},
   "source": [
    "### 4. Bottom 10 countries by relative quality"
   ]
  },
  {
   "cell_type": "markdown",
   "metadata": {},
   "source": [
    "These are the 10 countries with the least number of quality articles (`GA` or `FA` predictions from ORES) per number of politician articles on Wikipedia from that country."
   ]
  },
  {
   "cell_type": "code",
   "execution_count": 92,
   "metadata": {},
   "outputs": [
    {
     "data": {
      "text/html": [
       "<div>\n",
       "<style scoped>\n",
       "    .dataframe tbody tr th:only-of-type {\n",
       "        vertical-align: middle;\n",
       "    }\n",
       "\n",
       "    .dataframe tbody tr th {\n",
       "        vertical-align: top;\n",
       "    }\n",
       "\n",
       "    .dataframe thead th {\n",
       "        text-align: right;\n",
       "    }\n",
       "</style>\n",
       "<table border=\"1\" class=\"dataframe\">\n",
       "  <thead>\n",
       "    <tr style=\"text-align: right;\">\n",
       "      <th></th>\n",
       "      <th>country</th>\n",
       "      <th>num_high_quality_articles</th>\n",
       "      <th>num_articles</th>\n",
       "      <th>quality_articles_per_articles</th>\n",
       "    </tr>\n",
       "  </thead>\n",
       "  <tbody>\n",
       "    <tr>\n",
       "      <th>14</th>\n",
       "      <td>Malta</td>\n",
       "      <td>0</td>\n",
       "      <td>103</td>\n",
       "      <td>0.0</td>\n",
       "    </tr>\n",
       "    <tr>\n",
       "      <th>22</th>\n",
       "      <td>Angola</td>\n",
       "      <td>0</td>\n",
       "      <td>106</td>\n",
       "      <td>0.0</td>\n",
       "    </tr>\n",
       "    <tr>\n",
       "      <th>28</th>\n",
       "      <td>Finland</td>\n",
       "      <td>0</td>\n",
       "      <td>569</td>\n",
       "      <td>0.0</td>\n",
       "    </tr>\n",
       "    <tr>\n",
       "      <th>32</th>\n",
       "      <td>Tunisia</td>\n",
       "      <td>0</td>\n",
       "      <td>138</td>\n",
       "      <td>0.0</td>\n",
       "    </tr>\n",
       "    <tr>\n",
       "      <th>39</th>\n",
       "      <td>San Marino</td>\n",
       "      <td>0</td>\n",
       "      <td>81</td>\n",
       "      <td>0.0</td>\n",
       "    </tr>\n",
       "    <tr>\n",
       "      <th>50</th>\n",
       "      <td>Uganda</td>\n",
       "      <td>0</td>\n",
       "      <td>185</td>\n",
       "      <td>0.0</td>\n",
       "    </tr>\n",
       "    <tr>\n",
       "      <th>52</th>\n",
       "      <td>Moldova</td>\n",
       "      <td>0</td>\n",
       "      <td>423</td>\n",
       "      <td>0.0</td>\n",
       "    </tr>\n",
       "    <tr>\n",
       "      <th>63</th>\n",
       "      <td>Monaco</td>\n",
       "      <td>0</td>\n",
       "      <td>40</td>\n",
       "      <td>0.0</td>\n",
       "    </tr>\n",
       "    <tr>\n",
       "      <th>76</th>\n",
       "      <td>Turkmenistan</td>\n",
       "      <td>0</td>\n",
       "      <td>32</td>\n",
       "      <td>0.0</td>\n",
       "    </tr>\n",
       "    <tr>\n",
       "      <th>80</th>\n",
       "      <td>Slovakia</td>\n",
       "      <td>0</td>\n",
       "      <td>116</td>\n",
       "      <td>0.0</td>\n",
       "    </tr>\n",
       "  </tbody>\n",
       "</table>\n",
       "</div>"
      ],
      "text/plain": [
       "         country  num_high_quality_articles  num_articles  \\\n",
       "14         Malta                          0           103   \n",
       "22        Angola                          0           106   \n",
       "28       Finland                          0           569   \n",
       "32       Tunisia                          0           138   \n",
       "39    San Marino                          0            81   \n",
       "50        Uganda                          0           185   \n",
       "52       Moldova                          0           423   \n",
       "63        Monaco                          0            40   \n",
       "76  Turkmenistan                          0            32   \n",
       "80      Slovakia                          0           116   \n",
       "\n",
       "    quality_articles_per_articles  \n",
       "14                            0.0  \n",
       "22                            0.0  \n",
       "28                            0.0  \n",
       "32                            0.0  \n",
       "39                            0.0  \n",
       "50                            0.0  \n",
       "52                            0.0  \n",
       "63                            0.0  \n",
       "76                            0.0  \n",
       "80                            0.0  "
      ]
     },
     "execution_count": 92,
     "metadata": {},
     "output_type": "execute_result"
    }
   ],
   "source": [
    "bottom_10_by_quality = article_stats.nsmallest(10, \"quality_articles_per_articles\")\n",
    "bottom_10_by_quality[[\"country\", \"num_high_quality_articles\", \"num_articles\", \"quality_articles_per_articles\"]]"
   ]
  },
  {
   "cell_type": "markdown",
   "metadata": {},
   "source": [
    "### 5. Geographic regions by coverage (by politician articles from countries in each region as a proportion of total regional population)"
   ]
  },
  {
   "cell_type": "markdown",
   "metadata": {},
   "source": [
    "The geographic regions in order of most politician articles per population to least."
   ]
  },
  {
   "cell_type": "code",
   "execution_count": null,
   "metadata": {},
   "outputs": [],
   "source": []
  },
  {
   "cell_type": "markdown",
   "metadata": {},
   "source": [
    "### 6. Geographic regions by coverage (by relative proportion of politician articles from countries in each region that are of GA and FA-quality)"
   ]
  },
  {
   "cell_type": "markdown",
   "metadata": {},
   "source": [
    "The geographic regions in order of highest proportion of high quality articles to total articles to least."
   ]
  },
  {
   "cell_type": "code",
   "execution_count": null,
   "metadata": {},
   "outputs": [],
   "source": []
  },
  {
   "cell_type": "markdown",
   "metadata": {},
   "source": [
    "----------------"
   ]
  },
  {
   "cell_type": "markdown",
   "metadata": {},
   "source": [
    "## Reflections and implications"
   ]
  },
  {
   "cell_type": "markdown",
   "metadata": {},
   "source": [
    "Write a few paragraphs, either in the README or at the end of the notebook, reflecting on what you have learned, what you found, what (if anything) surprised you about your findings, and/or what theories you have about why any biases might exist (if you find they exist). You can also include any questions this assignment raised for you about bias, Wikipedia, or machine learning.\n",
    "\n",
    "In addition to any reflections you want to share about the process of the assignment, please respond (briefly) to at least three of the questions below:\n",
    "\n",
    "What biases did you expect to find in the data (before you started working with it), and why?  \n",
    "What (potential) sources of bias did you discover in the course of your data processing and analysis?  \n",
    "What might your results suggest about (English) Wikipedia as a data source?  \n",
    "What might your results suggest about the internet and global society in general?  \n",
    "Can you think of a realistic data science research situation where using these data (to train a model, perform a hypothesis-driven research, or make business decisions) might create biased or misleading results, due to the inherent gaps and limitations of the data?  \n",
    "Can you think of a realistic data science research situation where using these data (to train a model, perform a hypothesis-driven research, or make business decisions) might still be appropriate and useful, despite its inherent limitations and biases?  \n",
    "How might a researcher supplement or transform this dataset to potentially correct for the limitations/biases you observed?\n",
    "This section doesn't need to be particularly long or thorough, but we'll expect you to write at least a couple paragraphs."
   ]
  },
  {
   "cell_type": "code",
   "execution_count": null,
   "metadata": {},
   "outputs": [],
   "source": [
    "* bias heavily influenced by county size!! -europe probbaly high but malta low??"
   ]
  }
 ],
 "metadata": {
  "kernelspec": {
   "display_name": "Python 3",
   "language": "python",
   "name": "python3"
  },
  "language_info": {
   "codemirror_mode": {
    "name": "ipython",
    "version": 3
   },
   "file_extension": ".py",
   "mimetype": "text/x-python",
   "name": "python",
   "nbconvert_exporter": "python",
   "pygments_lexer": "ipython3",
   "version": "3.7.3"
  }
 },
 "nbformat": 4,
 "nbformat_minor": 2
}
