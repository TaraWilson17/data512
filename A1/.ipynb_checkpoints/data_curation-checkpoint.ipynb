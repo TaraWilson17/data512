{
 "cells": [
  {
   "cell_type": "markdown",
   "metadata": {},
   "source": [
    "# Assignment 1: Data Curation\n",
    "### Data 512\n",
    "### Sunday, September 29\n",
    "### Tara Wilson"
   ]
  },
  {
   "cell_type": "code",
   "execution_count": 1,
   "metadata": {},
   "outputs": [
    {
     "ename": "SyntaxError",
     "evalue": "invalid syntax (<ipython-input-1-973bcee7386b>, line 1)",
     "output_type": "error",
     "traceback": [
      "\u001b[1;36m  File \u001b[1;32m\"<ipython-input-1-973bcee7386b>\"\u001b[1;36m, line \u001b[1;32m1\u001b[0m\n\u001b[1;33m    Python version 3.7\u001b[0m\n\u001b[1;37m                 ^\u001b[0m\n\u001b[1;31mSyntaxError\u001b[0m\u001b[1;31m:\u001b[0m invalid syntax\n"
     ]
    }
   ],
   "source": [
    "Python version 3.7"
   ]
  },
  {
   "cell_type": "markdown",
   "metadata": {},
   "source": [
    "### Data Acquisiton"
   ]
  },
  {
   "cell_type": "code",
   "execution_count": 2,
   "metadata": {},
   "outputs": [],
   "source": [
    "# import libraries needed to download data\n",
    "import json\n",
    "import requests\n",
    "import pandas as pd"
   ]
  },
  {
   "cell_type": "code",
   "execution_count": 3,
   "metadata": {},
   "outputs": [],
   "source": [
    "def make_and_save_api_call(endpoint, params, filename):\n",
    "    call = requests.get(endpoint.format(**params))\n",
    "    response = call.json()\n",
    "    with open(filename, \"w\", encoding=\"utf-8\") as file:\n",
    "        json.dump(response, file)"
   ]
  },
  {
   "cell_type": "code",
   "execution_count": 4,
   "metadata": {},
   "outputs": [],
   "source": [
    "# pageview counts for a project, desktop access\n",
    "pageview_desktop_endpoint = \"https://wikimedia.org/api/rest_v1/metrics/pageviews/aggregate/{project}/{access}/{agent}/{granularity}/{start}/{end}\"\n",
    "\n",
    "pageview_desktop_params = {\"project\": \"en.wikipedia.org\",\n",
    "                           \"access\": \"desktop\",\n",
    "                            \"agent\": \"user\",\n",
    "                            \"granularity\": \"monthly\",\n",
    "                            \"start\": \"2015070100\",\n",
    "                            \"end\": \"2019083000\"\n",
    "                           }\n",
    "\n",
    "make_and_save_api_call(pageview_desktop_endpoint, pageview_desktop_params, \"pageviews_desktop_201507-201908.json\")"
   ]
  },
  {
   "cell_type": "code",
   "execution_count": 5,
   "metadata": {},
   "outputs": [],
   "source": [
    "# pageview counts for a project, mobile app access\n",
    "pageview_mobile_app_endpoint = \"https://wikimedia.org/api/rest_v1/metrics/pageviews/aggregate/{project}/{access}/{agent}/{granularity}/{start}/{end}\"\n",
    "\n",
    "pageview_mobile_app_params = {\"project\": \"en.wikipedia.org\",\n",
    "                           \"access\": \"mobile-app\",\n",
    "                            \"agent\": \"user\",\n",
    "                            \"granularity\": \"monthly\",\n",
    "                            \"start\": \"2015070100\",\n",
    "                            \"end\": \"2019083000\"\n",
    "                           }\n",
    "\n",
    "make_and_save_api_call(pageview_mobile_app_endpoint, pageview_mobile_app_params, \"pageviews_mobile-app_201507-201908.json\")"
   ]
  },
  {
   "cell_type": "code",
   "execution_count": 6,
   "metadata": {},
   "outputs": [],
   "source": [
    "# pageview counts for a project, mobile web access\n",
    "pageview_mobile_web_endpoint = \"https://wikimedia.org/api/rest_v1/metrics/pageviews/aggregate/{project}/{access}/{agent}/{granularity}/{start}/{end}\"\n",
    "\n",
    "pageview_mobile_web_params = {\"project\": \"en.wikipedia.org\",\n",
    "                           \"access\": \"mobile-web\",\n",
    "                            \"agent\": \"user\",\n",
    "                            \"granularity\": \"monthly\",\n",
    "                            \"start\": \"2015070100\",\n",
    "                            \"end\": \"2019083000\"\n",
    "                           }\n",
    "\n",
    "make_and_save_api_call(pageview_mobile_web_endpoint, pageview_mobile_web_params, \"pageviews_mobile-web_201507-201908.json\")"
   ]
  },
  {
   "cell_type": "code",
   "execution_count": 7,
   "metadata": {},
   "outputs": [],
   "source": [
    "# legacy pageview data, mobile access\n",
    "legacy_pagecount_mobile_endpoint = \"https://wikimedia.org/api/rest_v1/metrics/legacy/pagecounts/aggregate/{project}/{access-site}/{granularity}/{start}/{end}\"\n",
    "\n",
    "legacy_pagecount_mobile_params = {\"project\": \"en.wikipedia.org\",\n",
    "                           \"access-site\": \"mobile-site\",\n",
    "                            \"granularity\": \"monthly\",\n",
    "                            \"start\": \"2008010100\",\n",
    "                            \"end\": \"2016073100\"\n",
    "                           }\n",
    "\n",
    "make_and_save_api_call(legacy_pagecount_mobile_endpoint, legacy_pagecount_mobile_params, \"pagecounts_mobile-site_200801-201607.json\")"
   ]
  },
  {
   "cell_type": "code",
   "execution_count": 8,
   "metadata": {},
   "outputs": [],
   "source": [
    "# legacy pageview data, desktop access\n",
    "legacy_pageview_desktop_endpoint = \"https://wikimedia.org/api/rest_v1/metrics/legacy/pagecounts/aggregate/{project}/{access-site}/{granularity}/{start}/{end}\"\n",
    "\n",
    "legacy_pageview_desktop_params = {\"project\": \"en.wikipedia.org\",\n",
    "                           \"access-site\": \"desktop-site\",\n",
    "                            \"granularity\": \"monthly\",\n",
    "                            \"start\": \"2008010100\",\n",
    "                            \"end\": \"2016073100\"\n",
    "                           }\n",
    "\n",
    "make_and_save_api_call(legacy_pageview_desktop_endpoint, legacy_pageview_desktop_params, \"pagecounts_desktop-site_200801-201607.json\")"
   ]
  },
  {
   "cell_type": "markdown",
   "metadata": {},
   "source": [
    "### Data processing"
   ]
  },
  {
   "cell_type": "code",
   "execution_count": 9,
   "metadata": {},
   "outputs": [],
   "source": [
    "pageviews_mobile_app = pd.read_json(\"pageviews_mobile-app_201507-201908.json\")[\"items\"]\n",
    "\n",
    "pageviews_mobile_app_df = pd.DataFrame({})\n",
    "timestamp = []\n",
    "count = []\n",
    "for row in pageviews_mobile_app:\n",
    "    timestamp.append(row[\"timestamp\"])\n",
    "    count.append(row[\"views\"])\n",
    "    \n",
    "pageviews_mobile_app_df[\"timestamp\"] = timestamp\n",
    "pageviews_mobile_app_df[\"pageview_mobile_views\"] = count"
   ]
  },
  {
   "cell_type": "code",
   "execution_count": 10,
   "metadata": {},
   "outputs": [],
   "source": [
    "pageviews_mobile_web = pd.read_json(\"pageviews_mobile-web_201507-201908.json\")[\"items\"]\n",
    "\n",
    "pageviews_mobile_web_df = pd.DataFrame({})\n",
    "timestamp = []\n",
    "count = []\n",
    "for row in pageviews_mobile_web:\n",
    "    timestamp.append(row[\"timestamp\"])\n",
    "    count.append(row[\"views\"])\n",
    "    \n",
    "pageviews_mobile_web_df[\"timestamp\"] = timestamp\n",
    "pageviews_mobile_web_df[\"pageview_mobile_views\"] = count"
   ]
  },
  {
   "cell_type": "code",
   "execution_count": 11,
   "metadata": {},
   "outputs": [],
   "source": [
    "pageviews_mobile_web_df = pageviews_mobile_web_df.set_index([\"timestamp\"])\n",
    "pageviews_mobile_app_df = pageviews_mobile_app_df.set_index([\"timestamp\"])\n",
    "\n",
    "pageviews_mobile = pageviews_mobile_web_df + pageviews_mobile_app_df"
   ]
  },
  {
   "cell_type": "code",
   "execution_count": 12,
   "metadata": {},
   "outputs": [],
   "source": [
    "pageviews_desktop = pd.read_json(\"pageviews_desktop_201507-201908.json\")[\"items\"]\n",
    "\n",
    "pageviews_desktop_df = pd.DataFrame({})\n",
    "timestamp = []\n",
    "count = []\n",
    "for row in pageviews_desktop:\n",
    "    timestamp.append(row[\"timestamp\"])\n",
    "    count.append(row[\"views\"])\n",
    "    \n",
    "pageviews_desktop_df[\"timestamp\"] = timestamp\n",
    "pageviews_desktop_df[\"pageview_desktop_views\"] = count\n",
    "\n",
    "pageviews_desktop_df = pageviews_desktop_df.set_index([\"timestamp\"])"
   ]
  },
  {
   "cell_type": "code",
   "execution_count": 13,
   "metadata": {},
   "outputs": [],
   "source": [
    "pagecounts_desktop = pd.read_json(\"pagecounts_desktop-site_200801-201607.json\")[\"items\"]\n",
    "\n",
    "pagecounts_desktop_df = pd.DataFrame({})\n",
    "timestamp = []\n",
    "count = []\n",
    "for row in pagecounts_desktop:\n",
    "    timestamp.append(row[\"timestamp\"])\n",
    "    count.append(row[\"count\"])\n",
    "    \n",
    "pagecounts_desktop_df[\"timestamp\"] = timestamp\n",
    "pagecounts_desktop_df[\"pagecount_desktop_views\"] = count\n",
    "\n",
    "pagecounts_desktop_df = pagecounts_desktop_df.set_index([\"timestamp\"])"
   ]
  },
  {
   "cell_type": "code",
   "execution_count": 14,
   "metadata": {},
   "outputs": [],
   "source": [
    "pagecounts_mobile = pd.read_json(\"pagecounts_mobile-site_200801-201607.json\")[\"items\"]\n",
    "\n",
    "pagecounts_mobile_df = pd.DataFrame({})\n",
    "timestamp = []\n",
    "count = []\n",
    "for row in pagecounts_mobile:\n",
    "    timestamp.append(row[\"timestamp\"])\n",
    "    count.append(row[\"count\"])\n",
    "    \n",
    "pagecounts_mobile_df[\"timestamp\"] = timestamp\n",
    "pagecounts_mobile_df[\"pagecount_mobile_views\"] = count\n",
    "\n",
    "pagecounts_mobile_df = pagecounts_mobile_df.set_index([\"timestamp\"])"
   ]
  },
  {
   "cell_type": "code",
   "execution_count": 15,
   "metadata": {},
   "outputs": [
    {
     "ename": "KeyError",
     "evalue": "'timestamp'",
     "output_type": "error",
     "traceback": [
      "\u001b[1;31m---------------------------------------------------------------------------\u001b[0m",
      "\u001b[1;31mKeyError\u001b[0m                                  Traceback (most recent call last)",
      "\u001b[1;32mC:\\ProgramData\\Anaconda3\\lib\\site-packages\\pandas\\core\\indexes\\base.py\u001b[0m in \u001b[0;36mget_loc\u001b[1;34m(self, key, method, tolerance)\u001b[0m\n\u001b[0;32m   2656\u001b[0m             \u001b[1;32mtry\u001b[0m\u001b[1;33m:\u001b[0m\u001b[1;33m\u001b[0m\u001b[1;33m\u001b[0m\u001b[0m\n\u001b[1;32m-> 2657\u001b[1;33m                 \u001b[1;32mreturn\u001b[0m \u001b[0mself\u001b[0m\u001b[1;33m.\u001b[0m\u001b[0m_engine\u001b[0m\u001b[1;33m.\u001b[0m\u001b[0mget_loc\u001b[0m\u001b[1;33m(\u001b[0m\u001b[0mkey\u001b[0m\u001b[1;33m)\u001b[0m\u001b[1;33m\u001b[0m\u001b[1;33m\u001b[0m\u001b[0m\n\u001b[0m\u001b[0;32m   2658\u001b[0m             \u001b[1;32mexcept\u001b[0m \u001b[0mKeyError\u001b[0m\u001b[1;33m:\u001b[0m\u001b[1;33m\u001b[0m\u001b[1;33m\u001b[0m\u001b[0m\n",
      "\u001b[1;32mpandas/_libs/index.pyx\u001b[0m in \u001b[0;36mpandas._libs.index.IndexEngine.get_loc\u001b[1;34m()\u001b[0m\n",
      "\u001b[1;32mpandas/_libs/index.pyx\u001b[0m in \u001b[0;36mpandas._libs.index.IndexEngine.get_loc\u001b[1;34m()\u001b[0m\n",
      "\u001b[1;32mpandas/_libs/hashtable_class_helper.pxi\u001b[0m in \u001b[0;36mpandas._libs.hashtable.PyObjectHashTable.get_item\u001b[1;34m()\u001b[0m\n",
      "\u001b[1;32mpandas/_libs/hashtable_class_helper.pxi\u001b[0m in \u001b[0;36mpandas._libs.hashtable.PyObjectHashTable.get_item\u001b[1;34m()\u001b[0m\n",
      "\u001b[1;31mKeyError\u001b[0m: 'timestamp'",
      "\nDuring handling of the above exception, another exception occurred:\n",
      "\u001b[1;31mKeyError\u001b[0m                                  Traceback (most recent call last)",
      "\u001b[1;32m<ipython-input-15-8edb7397d1d2>\u001b[0m in \u001b[0;36m<module>\u001b[1;34m\u001b[0m\n\u001b[0;32m      2\u001b[0m \u001b[0mall_data\u001b[0m\u001b[1;33m[\u001b[0m\u001b[1;34m\"pagecount_all_views\"\u001b[0m\u001b[1;33m]\u001b[0m \u001b[1;33m=\u001b[0m \u001b[0mall_data\u001b[0m\u001b[1;33m[\u001b[0m\u001b[1;34m\"pagecount_desktop_views\"\u001b[0m\u001b[1;33m]\u001b[0m \u001b[1;33m+\u001b[0m \u001b[0mall_data\u001b[0m\u001b[1;33m[\u001b[0m\u001b[1;34m\"pagecount_mobile_views\"\u001b[0m\u001b[1;33m]\u001b[0m\u001b[1;33m\u001b[0m\u001b[1;33m\u001b[0m\u001b[0m\n\u001b[0;32m      3\u001b[0m \u001b[0mall_data\u001b[0m\u001b[1;33m[\u001b[0m\u001b[1;34m\"pageview_all_views\"\u001b[0m\u001b[1;33m]\u001b[0m \u001b[1;33m=\u001b[0m \u001b[0mall_data\u001b[0m\u001b[1;33m[\u001b[0m\u001b[1;34m\"pageview_desktop_views\"\u001b[0m\u001b[1;33m]\u001b[0m \u001b[1;33m+\u001b[0m \u001b[0mall_data\u001b[0m\u001b[1;33m[\u001b[0m\u001b[1;34m\"pageview_mobile_views\"\u001b[0m\u001b[1;33m]\u001b[0m\u001b[1;33m\u001b[0m\u001b[1;33m\u001b[0m\u001b[0m\n\u001b[1;32m----> 4\u001b[1;33m \u001b[0mall_data\u001b[0m\u001b[1;33m[\u001b[0m\u001b[1;34m\"year\"\u001b[0m\u001b[1;33m]\u001b[0m \u001b[1;33m=\u001b[0m \u001b[0mall_data\u001b[0m\u001b[1;33m[\u001b[0m\u001b[1;34m\"timestamp\"\u001b[0m\u001b[1;33m]\u001b[0m\u001b[1;33m[\u001b[0m\u001b[1;36m0\u001b[0m\u001b[1;33m:\u001b[0m\u001b[1;36m4\u001b[0m\u001b[1;33m]\u001b[0m\u001b[1;33m\u001b[0m\u001b[1;33m\u001b[0m\u001b[0m\n\u001b[0m\u001b[0;32m      5\u001b[0m \u001b[0mall_data\u001b[0m\u001b[1;33m[\u001b[0m\u001b[1;34m\"month\"\u001b[0m\u001b[1;33m]\u001b[0m \u001b[1;33m=\u001b[0m \u001b[0mall_data\u001b[0m\u001b[1;33m[\u001b[0m\u001b[1;34m\"timestamp\"\u001b[0m\u001b[1;33m]\u001b[0m\u001b[1;33m[\u001b[0m\u001b[1;36m4\u001b[0m\u001b[1;33m:\u001b[0m\u001b[1;36m6\u001b[0m\u001b[1;33m]\u001b[0m\u001b[1;33m\u001b[0m\u001b[1;33m\u001b[0m\u001b[0m\n",
      "\u001b[1;32mC:\\ProgramData\\Anaconda3\\lib\\site-packages\\pandas\\core\\frame.py\u001b[0m in \u001b[0;36m__getitem__\u001b[1;34m(self, key)\u001b[0m\n\u001b[0;32m   2925\u001b[0m             \u001b[1;32mif\u001b[0m \u001b[0mself\u001b[0m\u001b[1;33m.\u001b[0m\u001b[0mcolumns\u001b[0m\u001b[1;33m.\u001b[0m\u001b[0mnlevels\u001b[0m \u001b[1;33m>\u001b[0m \u001b[1;36m1\u001b[0m\u001b[1;33m:\u001b[0m\u001b[1;33m\u001b[0m\u001b[1;33m\u001b[0m\u001b[0m\n\u001b[0;32m   2926\u001b[0m                 \u001b[1;32mreturn\u001b[0m \u001b[0mself\u001b[0m\u001b[1;33m.\u001b[0m\u001b[0m_getitem_multilevel\u001b[0m\u001b[1;33m(\u001b[0m\u001b[0mkey\u001b[0m\u001b[1;33m)\u001b[0m\u001b[1;33m\u001b[0m\u001b[1;33m\u001b[0m\u001b[0m\n\u001b[1;32m-> 2927\u001b[1;33m             \u001b[0mindexer\u001b[0m \u001b[1;33m=\u001b[0m \u001b[0mself\u001b[0m\u001b[1;33m.\u001b[0m\u001b[0mcolumns\u001b[0m\u001b[1;33m.\u001b[0m\u001b[0mget_loc\u001b[0m\u001b[1;33m(\u001b[0m\u001b[0mkey\u001b[0m\u001b[1;33m)\u001b[0m\u001b[1;33m\u001b[0m\u001b[1;33m\u001b[0m\u001b[0m\n\u001b[0m\u001b[0;32m   2928\u001b[0m             \u001b[1;32mif\u001b[0m \u001b[0mis_integer\u001b[0m\u001b[1;33m(\u001b[0m\u001b[0mindexer\u001b[0m\u001b[1;33m)\u001b[0m\u001b[1;33m:\u001b[0m\u001b[1;33m\u001b[0m\u001b[1;33m\u001b[0m\u001b[0m\n\u001b[0;32m   2929\u001b[0m                 \u001b[0mindexer\u001b[0m \u001b[1;33m=\u001b[0m \u001b[1;33m[\u001b[0m\u001b[0mindexer\u001b[0m\u001b[1;33m]\u001b[0m\u001b[1;33m\u001b[0m\u001b[1;33m\u001b[0m\u001b[0m\n",
      "\u001b[1;32mC:\\ProgramData\\Anaconda3\\lib\\site-packages\\pandas\\core\\indexes\\base.py\u001b[0m in \u001b[0;36mget_loc\u001b[1;34m(self, key, method, tolerance)\u001b[0m\n\u001b[0;32m   2657\u001b[0m                 \u001b[1;32mreturn\u001b[0m \u001b[0mself\u001b[0m\u001b[1;33m.\u001b[0m\u001b[0m_engine\u001b[0m\u001b[1;33m.\u001b[0m\u001b[0mget_loc\u001b[0m\u001b[1;33m(\u001b[0m\u001b[0mkey\u001b[0m\u001b[1;33m)\u001b[0m\u001b[1;33m\u001b[0m\u001b[1;33m\u001b[0m\u001b[0m\n\u001b[0;32m   2658\u001b[0m             \u001b[1;32mexcept\u001b[0m \u001b[0mKeyError\u001b[0m\u001b[1;33m:\u001b[0m\u001b[1;33m\u001b[0m\u001b[1;33m\u001b[0m\u001b[0m\n\u001b[1;32m-> 2659\u001b[1;33m                 \u001b[1;32mreturn\u001b[0m \u001b[0mself\u001b[0m\u001b[1;33m.\u001b[0m\u001b[0m_engine\u001b[0m\u001b[1;33m.\u001b[0m\u001b[0mget_loc\u001b[0m\u001b[1;33m(\u001b[0m\u001b[0mself\u001b[0m\u001b[1;33m.\u001b[0m\u001b[0m_maybe_cast_indexer\u001b[0m\u001b[1;33m(\u001b[0m\u001b[0mkey\u001b[0m\u001b[1;33m)\u001b[0m\u001b[1;33m)\u001b[0m\u001b[1;33m\u001b[0m\u001b[1;33m\u001b[0m\u001b[0m\n\u001b[0m\u001b[0;32m   2660\u001b[0m         \u001b[0mindexer\u001b[0m \u001b[1;33m=\u001b[0m \u001b[0mself\u001b[0m\u001b[1;33m.\u001b[0m\u001b[0mget_indexer\u001b[0m\u001b[1;33m(\u001b[0m\u001b[1;33m[\u001b[0m\u001b[0mkey\u001b[0m\u001b[1;33m]\u001b[0m\u001b[1;33m,\u001b[0m \u001b[0mmethod\u001b[0m\u001b[1;33m=\u001b[0m\u001b[0mmethod\u001b[0m\u001b[1;33m,\u001b[0m \u001b[0mtolerance\u001b[0m\u001b[1;33m=\u001b[0m\u001b[0mtolerance\u001b[0m\u001b[1;33m)\u001b[0m\u001b[1;33m\u001b[0m\u001b[1;33m\u001b[0m\u001b[0m\n\u001b[0;32m   2661\u001b[0m         \u001b[1;32mif\u001b[0m \u001b[0mindexer\u001b[0m\u001b[1;33m.\u001b[0m\u001b[0mndim\u001b[0m \u001b[1;33m>\u001b[0m \u001b[1;36m1\u001b[0m \u001b[1;32mor\u001b[0m \u001b[0mindexer\u001b[0m\u001b[1;33m.\u001b[0m\u001b[0msize\u001b[0m \u001b[1;33m>\u001b[0m \u001b[1;36m1\u001b[0m\u001b[1;33m:\u001b[0m\u001b[1;33m\u001b[0m\u001b[1;33m\u001b[0m\u001b[0m\n",
      "\u001b[1;32mpandas/_libs/index.pyx\u001b[0m in \u001b[0;36mpandas._libs.index.IndexEngine.get_loc\u001b[1;34m()\u001b[0m\n",
      "\u001b[1;32mpandas/_libs/index.pyx\u001b[0m in \u001b[0;36mpandas._libs.index.IndexEngine.get_loc\u001b[1;34m()\u001b[0m\n",
      "\u001b[1;32mpandas/_libs/hashtable_class_helper.pxi\u001b[0m in \u001b[0;36mpandas._libs.hashtable.PyObjectHashTable.get_item\u001b[1;34m()\u001b[0m\n",
      "\u001b[1;32mpandas/_libs/hashtable_class_helper.pxi\u001b[0m in \u001b[0;36mpandas._libs.hashtable.PyObjectHashTable.get_item\u001b[1;34m()\u001b[0m\n",
      "\u001b[1;31mKeyError\u001b[0m: 'timestamp'"
     ]
    }
   ],
   "source": [
    "all_data = pageviews_mobile.join(pageviews_desktop_df).join(pagecounts_desktop_df, how=\"outer\").join(pagecounts_mobile_df, how=\"outer\")\n",
    "all_data[\"pagecount_all_views\"] = all_data[\"pagecount_desktop_views\"] + all_data[\"pagecount_mobile_views\"] \n",
    "all_data[\"pageview_all_views\"] = all_data[\"pageview_desktop_views\"] + all_data[\"pageview_mobile_views\"] \n",
    "all_data[\"year\"] = all_data[\"timestamp\"][0:4]\n",
    "all_data[\"month\"] = all_data[\"timestamp\"][4:6]"
   ]
  },
  {
   "cell_type": "code",
   "execution_count": null,
   "metadata": {},
   "outputs": [],
   "source": [
    "all_data.to_csv(\"en-wikipedia_traffic_200712-201809.csv\", sep=\",\", nap_rep=0, \n",
    "                columns=[\"year\", \"month\", \"pagecount_all_views\", \"pagecount_desktop_views\", \"pagecount_mobile_views\", \"pageview_all_views\", \"pageview_desktop_views\", \"pageview_mobile_views\"])"
   ]
  },
  {
   "cell_type": "markdown",
   "metadata": {},
   "source": [
    "### Analysis"
   ]
  },
  {
   "cell_type": "code",
   "execution_count": null,
   "metadata": {},
   "outputs": [],
   "source": []
  }
 ],
 "metadata": {
  "kernelspec": {
   "display_name": "Python 3",
   "language": "python",
   "name": "python3"
  },
  "language_info": {
   "codemirror_mode": {
    "name": "ipython",
    "version": 3
   },
   "file_extension": ".py",
   "mimetype": "text/x-python",
   "name": "python",
   "nbconvert_exporter": "python",
   "pygments_lexer": "ipython3",
   "version": "3.7.3"
  }
 },
 "nbformat": 4,
 "nbformat_minor": 2
}
